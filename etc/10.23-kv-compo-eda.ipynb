{
 "cells": [
  {
   "cell_type": "code",
   "execution_count": 1,
   "metadata": {},
   "outputs": [],
   "source": [
    "%load_ext autoreload\n",
    "%autoreload 2"
   ]
  },
  {
   "cell_type": "code",
   "execution_count": 2,
   "metadata": {},
   "outputs": [],
   "source": [
    "import sys\n",
    "sys.path.append(\"../src\")\n",
    "sys.path.append(\"../../CompoTree/src\")"
   ]
  },
  {
   "cell_type": "code",
   "execution_count": 3,
   "metadata": {},
   "outputs": [
    {
     "name": "stderr",
     "output_type": "stream",
     "text": [
      "/Users/seantyh/anaconda3/lib/python3.7/site-packages/gensim/similarities/__init__.py:15: UserWarning: The gensim.similarities.levenshtein submodule is disabled, because the optional Levenshtein package <https://pypi.org/project/python-Levenshtein/> is unavailable. Install Levenhstein (e.g. `pip install python-Levenshtein`) to suppress this warning.\n",
      "  warnings.warn(msg)\n"
     ]
    }
   ],
   "source": [
    "from gensim.models import KeyedVectors\n",
    "from fluidvec import create_fluid_keyvec, VocabSet"
   ]
  },
  {
   "cell_type": "code",
   "execution_count": 4,
   "metadata": {},
   "outputs": [],
   "source": [
    "vs = VocabSet.load()\n",
    "wvocab = vs.word_vocab"
   ]
  },
  {
   "cell_type": "code",
   "execution_count": 5,
   "metadata": {},
   "outputs": [
    {
     "name": "stdout",
     "output_type": "stream",
     "text": [
      "device:  cpu\n",
      "n_neg_sample:  5\n",
      "device:  cpu\n",
      "n_neg_sample:  5\n"
     ]
    },
    {
     "data": {
      "text/plain": [
       "<FluidKeyedVectors: 217350 words, 20396 chars, 3504 compos, 100 dimensions>"
      ]
     },
     "execution_count": 5,
     "metadata": {},
     "output_type": "execute_result"
    }
   ],
   "source": [
    "fkv = create_fluid_keyvec(\"../data/model/fluidvec-char.b.1\", \"../data/model/fluidvec-compo.b.1\")\n",
    "fkv"
   ]
  },
  {
   "cell_type": "code",
   "execution_count": 6,
   "metadata": {},
   "outputs": [
    {
     "data": {
      "text/plain": [
       "[('.構/', 0.792674720287323),\n",
       " ('.育/', 0.789618194103241),\n",
       " ('.治/', 0.7849012017250061),\n",
       " ('.識/', 0.781531035900116),\n",
       " ('.範/', 0.7783614993095398),\n",
       " ('.值.', 0.7776779532432556),\n",
       " ('/族.', 0.7772347331047058)]"
      ]
     },
     "execution_count": 6,
     "metadata": {},
     "output_type": "execute_result"
    }
   ],
   "source": [
    "fkv.most_similar(\"/社.\", no_compo=True)"
   ]
  },
  {
   "cell_type": "code",
   "execution_count": 7,
   "metadata": {},
   "outputs": [
    {
     "name": "stdout",
     "output_type": "stream",
     "text": [
      "compo tokens:  ['⿰0-礻', '⿰1-土']\n"
     ]
    },
    {
     "data": {
      "text/plain": [
       "[('⿰0-礻', 0.9354299902915955),\n",
       " ('/社.', 0.9329457879066467),\n",
       " ('⿰1-土', 0.9305049180984497),\n",
       " ('.教/', 0.811307430267334),\n",
       " ('.治/', 0.8081908822059631),\n",
       " ('/教.', 0.7963684797286987),\n",
       " ('.育/', 0.7960652709007263),\n",
       " ('/理.', 0.7934107780456543),\n",
       " ('/文.', 0.7913244366645813),\n",
       " ('⿲0-彳', 0.7910422086715698)]"
      ]
     },
     "execution_count": 7,
     "metadata": {},
     "output_type": "execute_result"
    }
   ],
   "source": [
    "fkv.most_similar(\"社\", use_compo_vec=True)"
   ]
  },
  {
   "cell_type": "code",
   "execution_count": 11,
   "metadata": {},
   "outputs": [
    {
     "data": {
      "text/plain": [
       "[('暨', 0.07487864792346954, 334),\n",
       " ('的', 0.05358472838997841, 581858),\n",
       " ('名為', 0.048954617232084274, 244),\n",
       " ('散發', 0.044144075363874435, 155),\n",
       " ('—', 0.041399288922548294, 18),\n",
       " ('中心', 0.04069190099835396, 5002),\n",
       " ('與', 0.03320188820362091, 42852),\n",
       " ('基金會', 0.025380894541740417, 1110),\n",
       " ('象徵', 0.020593959838151932, 657),\n",
       " ('文教', 0.019141286611557007, 220),\n",
       " ('公益', 0.017778903245925903, 223),\n",
       " ('慈善', 0.017018035054206848, 138),\n",
       " ('成為', 0.01619262620806694, 6069),\n",
       " ('和', 0.016085686162114143, 35974),\n",
       " ('總監', 0.013204511255025864, 90),\n",
       " ('關懷', 0.011141253635287285, 760),\n",
       " ('及', 0.01106557808816433, 25433),\n",
       " ('協會', 0.010267630219459534, 1359),\n",
       " ('上流', 0.009319797158241272, 50),\n",
       " ('當成', 0.008477253839373589, 373)]"
      ]
     },
     "execution_count": 11,
     "metadata": {},
     "output_type": "execute_result"
    }
   ],
   "source": [
    "fkv.most_similar(\"⿰0-礻\", word_only=True, topn=20)"
   ]
  },
  {
   "cell_type": "code",
   "execution_count": 88,
   "metadata": {},
   "outputs": [
    {
     "data": {
      "text/plain": [
       "['⿱0-將', '⿱1-水']"
      ]
     },
     "execution_count": 88,
     "metadata": {},
     "output_type": "execute_result"
    }
   ],
   "source": [
    "fkv.serialize_components(\"漿\")"
   ]
  },
  {
   "cell_type": "code",
   "execution_count": 19,
   "metadata": {},
   "outputs": [
    {
     "data": {
      "text/plain": [
       "[('的', 0.04892851412296295, 581858),\n",
       " ('處於', 0.028621377423405647, 472),\n",
       " ('海洋', 0.018673008307814598, 575),\n",
       " ('地層', 0.011452415026724339, 71),\n",
       " ('海域', 0.009118983522057533, 249),\n",
       " ('沿岸', 0.008843140676617622, 123),\n",
       " ('和', 0.002346042776480317, 35974),\n",
       " ('與', 0.0014374592574313283, 42852),\n",
       " ('及', 0.0013551716692745686, 25433),\n",
       " ('石油', -0.005789690185338259, 350)]"
      ]
     },
     "execution_count": 19,
     "metadata": {},
     "output_type": "execute_result"
    }
   ],
   "source": [
    "fkv.most_similar(\"⿰0-氵\", word_only=True)"
   ]
  },
  {
   "cell_type": "code",
   "execution_count": 20,
   "metadata": {},
   "outputs": [
    {
     "data": {
      "text/plain": [
       "[('熱', 0.0993218943476677, 676),\n",
       " ('夾帶', 0.08719050139188766, 60),\n",
       " ('炒', 0.07310660183429718, 214),\n",
       " ('倒入', 0.07124919444322586, 43),\n",
       " ('放進', 0.07056201994419098, 113),\n",
       " ('泥', 0.06761052459478378, 105),\n",
       " ('油', 0.06288215517997742, 318),\n",
       " ('碎', 0.062458451837301254, 95),\n",
       " ('火', 0.061424270272254944, 463),\n",
       " ('微', 0.05963588505983353, 200)]"
      ]
     },
     "execution_count": 20,
     "metadata": {},
     "output_type": "execute_result"
    }
   ],
   "source": [
    "fkv.most_similar(\"⿰0-火\", word_only=True)"
   ]
  },
  {
   "cell_type": "code",
   "execution_count": 87,
   "metadata": {},
   "outputs": [
    {
     "data": {
      "text/plain": [
       "[('/公.', 0.8562732338905334),\n",
       " ('<COMPO_NA>', 0.8516265749931335),\n",
       " ('/分.', 0.8424791097640991),\n",
       " ('/經.', 0.8276681900024414),\n",
       " ('.約/', 0.8231910467147827),\n",
       " ('/結.', 0.8206050992012024),\n",
       " ('/大.', 0.814242959022522),\n",
       " ('/連.', 0.8132200837135315),\n",
       " ('/上.', 0.8113311529159546)]"
      ]
     },
     "execution_count": 87,
     "metadata": {},
     "output_type": "execute_result"
    }
   ],
   "source": [
    "fkv.most_similar(\"⿰0-糹\", no_compo=True, topn=40)"
   ]
  },
  {
   "cell_type": "code",
   "execution_count": 83,
   "metadata": {},
   "outputs": [
    {
     "data": {
      "text/plain": [
       "[('全球', 0.005409020930528641, 1852),\n",
       " ('長達', -0.008457393385469913, 312),\n",
       " ('軌道', -0.017166756093502045, 234),\n",
       " ('光碟', -0.023004472255706787, 410),\n",
       " ('面板', -0.025451771914958954, 88),\n",
       " ('衛星', -0.029199106618762016, 514),\n",
       " ('石油', -0.0295607540756464, 350),\n",
       " ('電子', -0.030297257006168365, 1558),\n",
       " ('處於', -0.03210952505469322, 472)]"
      ]
     },
     "execution_count": 83,
     "metadata": {},
     "output_type": "execute_result"
    }
   ],
   "source": [
    "[x for x in fkv.most_similar(\"⿰0-糹\", word_only=True, topn=20) if len(x[0])==2]"
   ]
  },
  {
   "cell_type": "code",
   "execution_count": 69,
   "metadata": {},
   "outputs": [
    {
     "data": {
      "text/plain": [
       "[('散發', 0.032437052577733994, 155),\n",
       " ('伴隨', 0.010426241904497147, 167),\n",
       " ('葡萄', 0.0015358999371528625, 104),\n",
       " ('帶有', -0.008030921220779419, 286),\n",
       " ('香草', -0.008797876536846161, 109),\n",
       " ('蕃茄', -0.012473962269723415, 84),\n",
       " ('草本', -0.01326298713684082, 31),\n",
       " ('東方', -0.016268091276288033, 574)]"
      ]
     },
     "execution_count": 69,
     "metadata": {},
     "output_type": "execute_result"
    }
   ],
   "source": [
    "[x for x in fkv.most_similar(\"⿱0-艹\", word_only=True, topn=20) if len(x[0])==2]"
   ]
  },
  {
   "cell_type": "code",
   "execution_count": 89,
   "metadata": {},
   "outputs": [
    {
     "data": {
      "text/plain": [
       "[('溫泉', 0.37413570284843445, 296),\n",
       " ('知本', 0.2858501374721527, 42),\n",
       " ('溫泉區', 0.2724846303462982, 32),\n",
       " ('梨山', 0.2666378617286682, 47),\n",
       " ('山莊', 0.263963907957077, 102),\n",
       " ('特產', 0.26156124472618103, 89),\n",
       " ('縱谷', 0.2533101439476013, 31),\n",
       " ('農園', 0.2524462342262268, 49),\n",
       " ('香草', 0.24879825115203857, 109),\n",
       " ('草莓園', 0.24819016456604004, 23)]"
      ]
     },
     "execution_count": 89,
     "metadata": {},
     "output_type": "execute_result"
    }
   ],
   "source": [
    "fkv.most_similar(\"⿱1-水\", word_only=True)"
   ]
  },
  {
   "cell_type": "code",
   "execution_count": 94,
   "metadata": {},
   "outputs": [
    {
     "name": "stdout",
     "output_type": "stream",
     "text": [
      "compo tokens:  ['⿰0-火', '⿰1-登']\n"
     ]
    },
    {
     "data": {
      "text/plain": [
       "[('夾帶', 0.10336803644895554, 60),\n",
       " ('做成', 0.06827497482299805, 236),\n",
       " ('油', 0.06175651773810387, 318),\n",
       " ('透明', 0.05248327553272247, 244),\n",
       " ('放進', 0.052128687500953674, 113)]"
      ]
     },
     "execution_count": 94,
     "metadata": {},
     "output_type": "execute_result"
    }
   ],
   "source": [
    "fkv.most_similar(\"燈\", use_compo_vec=True, word_only=True, topn=5)"
   ]
  },
  {
   "cell_type": "code",
   "execution_count": 92,
   "metadata": {},
   "outputs": [
    {
     "data": {
      "text/plain": [
       "[('閃閃', 0.09162089228630066, 74),\n",
       " ('上方', 0.08314590156078339, 116),\n",
       " ('金色', 0.0788687989115715, 102),\n",
       " ('配上', 0.07819359004497528, 108),\n",
       " ('燈光', 0.07208855450153351, 283)]"
      ]
     },
     "execution_count": 92,
     "metadata": {},
     "output_type": "execute_result"
    }
   ],
   "source": [
    "fkv.most_similar(\"/燈.\", word_only=True, topn=5)"
   ]
  },
  {
   "cell_type": "code",
   "execution_count": 15,
   "metadata": {},
   "outputs": [
    {
     "name": "stdout",
     "output_type": "stream",
     "text": [
      "in word vocab:  True\n",
      "char tokens:  ['/街.', '.燈/']\n"
     ]
    },
    {
     "data": {
      "text/plain": [
       "[('沿著', 0.12252667546272278, 148),\n",
       " ('眺望', 0.11422909051179886, 60),\n",
       " ('圍繞', 0.11243623495101929, 138),\n",
       " ('穿過', 0.0858106017112732, 185),\n",
       " ('漫步', 0.0850994810461998, 77),\n",
       " ('後方', 0.0849408209323883, 119),\n",
       " ('廣場', 0.08370000869035721, 714),\n",
       " ('環繞', 0.07903441786766052, 129),\n",
       " ('蜿蜒', 0.07894289493560791, 71),\n",
       " ('四周', 0.07583945244550705, 395)]"
      ]
     },
     "execution_count": 15,
     "metadata": {},
     "output_type": "execute_result"
    }
   ],
   "source": [
    "fkv.most_similar(\"街燈\", use_char_vec=True, word_only=True, topn=10)"
   ]
  },
  {
   "cell_type": "code",
   "execution_count": 17,
   "metadata": {},
   "outputs": [
    {
     "data": {
      "text/plain": [
       "[('前院', 0.9281614422798157),\n",
       " ('枯黃', 0.9269572496414185),\n",
       " ('篝火', 0.9216689467430115),\n",
       " ('一群群', 0.9210391640663147),\n",
       " ('不一會', 0.9192306995391846),\n",
       " ('灰濛濛', 0.9190659523010254),\n",
       " ('霓虹', 0.9171066284179688),\n",
       " ('密林', 0.91608065366745),\n",
       " ('昏黃', 0.9158151745796204),\n",
       " ('碎石', 0.9147357940673828)]"
      ]
     },
     "execution_count": 17,
     "metadata": {},
     "output_type": "execute_result"
    }
   ],
   "source": [
    "fkv.most_similar(\"街燈\", topn=10)"
   ]
  },
  {
   "cell_type": "code",
   "execution_count": null,
   "metadata": {},
   "outputs": [],
   "source": [
    "fkv.most_similar(\"理\", use_compo_vec=True, word_only=True)"
   ]
  },
  {
   "cell_type": "code",
   "execution_count": 64,
   "metadata": {},
   "outputs": [
    {
     "data": {
      "text/plain": [
       "['⿰0-虫', '⿰1-巤']"
      ]
     },
     "execution_count": 64,
     "metadata": {},
     "output_type": "execute_result"
    }
   ],
   "source": [
    "fkv.serialize_components(\"蠟\")"
   ]
  },
  {
   "cell_type": "code",
   "execution_count": 65,
   "metadata": {},
   "outputs": [
    {
     "name": "stdout",
     "output_type": "stream",
     "text": [
      "(v1, v2) vs. v3 0.64788085 0.6527608\n",
      "(v1, v2) vs. v4 0.66329366 0.6120678\n",
      "(v1, v2) vs. v5 0.71966636 0.7860856\n"
     ]
    }
   ],
   "source": [
    "v1 = fkv.get_vector(\"⿰0-扌\", norm=True)\n",
    "v2 = fkv.get_vector(\"⿱1-手\", norm=True)\n",
    "v3 = fkv.get_vector(\"/手/\", norm=True)\n",
    "v4 = fkv.get_vector(\"/手.\", norm=True)\n",
    "v5 = fkv.get_vector(\".手/\", norm=True)\n",
    "\n",
    "print(\"(v1, v2) vs. v3\", v1.dot(v3), v2.dot(v3))\n",
    "print(\"(v1, v2) vs. v4\", v1.dot(v4), v2.dot(v4))\n",
    "print(\"(v1, v2) vs. v5\", v1.dot(v5), v2.dot(v5))"
   ]
  },
  {
   "cell_type": "code",
   "execution_count": 58,
   "metadata": {},
   "outputs": [],
   "source": [
    "xx = [x[0] for x in fkv.ctree.find(\"糹\", use_flag=\"shortest\", max_depth=1)]"
   ]
  },
  {
   "cell_type": "code",
   "execution_count": 59,
   "metadata": {},
   "outputs": [],
   "source": [
    "xx = [x for x in xx if x in fkv.words]"
   ]
  },
  {
   "cell_type": "code",
   "execution_count": 60,
   "metadata": {},
   "outputs": [
    {
     "data": {
      "application/vnd.jupyter.widget-view+json": {
       "model_id": "d4a4c0cf91184a3cb080583e296279f9",
       "version_major": 2,
       "version_minor": 0
      },
      "text/plain": [
       "HBox(children=(HTML(value=''), FloatProgress(value=0.0, max=90.0), HTML(value='')))"
      ]
     },
     "metadata": {},
     "output_type": "display_data"
    },
    {
     "name": "stdout",
     "output_type": "stream",
     "text": [
      "\n"
     ]
    }
   ],
   "source": [
    "from tqdm.auto import tqdm\n",
    "scores = []\n",
    "v_x = fkv.get_vector(\"⿰0-糹\", norm=True)\n",
    "for ch in tqdm(xx):\n",
    "    if f\"/{ch}.\" not in fkv.chars:\n",
    "        continue\n",
    "    v_y = fkv.get_vector(f\"/{ch}.\", norm=True)\n",
    "    scores.append(v_x.dot(v_y))"
   ]
  },
  {
   "cell_type": "markdown",
   "metadata": {},
   "source": [
    "## 糹部件 vs 有糹的字（當詞首）"
   ]
  },
  {
   "cell_type": "code",
   "execution_count": 63,
   "metadata": {},
   "outputs": [
    {
     "data": {
      "text/plain": [
       "0.19757982"
      ]
     },
     "execution_count": 63,
     "metadata": {},
     "output_type": "execute_result"
    },
    {
     "data": {
      "image/png": "[encoded data removed]",
      "text/plain": [
       "<Figure size 432x288 with 1 Axes>"
      ]
     },
     "metadata": {
      "needs_background": "light"
     },
     "output_type": "display_data"
    }
   ],
   "source": [
    "plt.hist(scores)\n",
    "import numpy as np\n",
    "np.std(scores)"
   ]
  },
  {
   "cell_type": "markdown",
   "metadata": {},
   "source": [
    "## 水部件 vs 有水的字（當詞首）"
   ]
  },
  {
   "cell_type": "code",
   "execution_count": 56,
   "metadata": {},
   "outputs": [
    {
     "data": {
      "text/plain": [
       "(array([ 6.,  9.,  6., 13., 23., 22., 36., 45., 37., 15.]),\n",
       " array([-0.08759472,  0.00236583,  0.09232638,  0.18228693,  0.27224746,\n",
       "         0.362208  ,  0.45216858,  0.5421291 ,  0.6320897 ,  0.7220502 ,\n",
       "         0.81201077], dtype=float32),\n",
       " <BarContainer object of 10 artists>)"
      ]
     },
     "execution_count": 56,
     "metadata": {},
     "output_type": "execute_result"
    },
    {
     "data": {
      "image/png": "[encoded data removed]",
      "text/plain": [
       "<Figure size 432x288 with 1 Axes>"
      ]
     },
     "metadata": {
      "needs_background": "light"
     },
     "output_type": "display_data"
    }
   ],
   "source": [
    "plt.hist(scores)"
   ]
  },
  {
   "cell_type": "markdown",
   "metadata": {},
   "source": [
    "## 手部件vs有手的字（當詞手）"
   ]
  },
  {
   "cell_type": "code",
   "execution_count": 50,
   "metadata": {},
   "outputs": [
    {
     "data": {
      "text/plain": [
       "(array([ 6., 12., 12., 18., 18., 32., 38., 47., 27., 11.]),\n",
       " array([-0.06171989,  0.02711261,  0.11594512,  0.20477763,  0.29361016,\n",
       "         0.38244265,  0.47127515,  0.56010765,  0.6489402 ,  0.7377727 ,\n",
       "         0.8266052 ], dtype=float32),\n",
       " <BarContainer object of 10 artists>)"
      ]
     },
     "execution_count": 50,
     "metadata": {},
     "output_type": "execute_result"
    },
    {
     "data": {
      "image/png": "[encoded data removed]",
      "text/plain": [
       "<Figure size 432x288 with 1 Axes>"
      ]
     },
     "metadata": {
      "needs_background": "light"
     },
     "output_type": "display_data"
    }
   ],
   "source": [
    "import matplotlib.pyplot as plt\n",
    "plt.hist(scores)"
   ]
  },
  {
   "cell_type": "code",
   "execution_count": 39,
   "metadata": {},
   "outputs": [
    {
     "name": "stdout",
     "output_type": "stream",
     "text": [
      "(v1, v2) vs. v3 -0.058512807 -0.0060747936\n",
      "(v1, v2) vs. v4 0.66329366 0.6120678\n",
      "(v1, v2) vs. v5 0.71966636 0.7860856\n"
     ]
    }
   ],
   "source": [
    "print(\"(v1, v2) vs. v3\", v1.dot(v3), v2.dot(v3))\n",
    "print(\"(v1, v2) vs. v4\", v1.dot(v4), v2.dot(v4))\n",
    "print(\"(v1, v2) vs. v5\", v1.dot(v5), v2.dot(v5))"
   ]
  },
  {
   "cell_type": "code",
   "execution_count": 55,
   "metadata": {},
   "outputs": [
    {
     "data": {
      "text/plain": [
       "[('置於', 0.03192866966128349, 118),\n",
       " ('具有', 0.010744713246822357, 2664),\n",
       " ('高級', 0.008081261068582535, 559),\n",
       " ('採用', 0.005800182465463877, 1139),\n",
       " ('做成', 0.0057605174370110035, 236),\n",
       " ('指向', -0.008746497333049774, 109),\n",
       " ('生化', -0.012875008396804333, 98),\n",
       " ('大小', -0.013736788183450699, 664),\n",
       " ('設有', -0.016170473769307137, 331),\n",
       " ('進入', -0.01629704423248768, 2739),\n",
       " ('海蝕', -0.016532739624381065, 23)]"
      ]
     },
     "execution_count": 55,
     "metadata": {},
     "output_type": "execute_result"
    }
   ],
   "source": [
    "fkv.most_similar(\"⿰0-木\", word_only=True)"
   ]
  },
  {
   "cell_type": "code",
   "execution_count": 98,
   "metadata": {},
   "outputs": [
    {
     "data": {
      "text/plain": [
       "[('—', 0.08199763298034668, 18),\n",
       " ('為題', 0.038128942251205444, 77),\n",
       " ('引述', 0.0333646796643734, 115),\n",
       " ('該', 0.019192755222320557, 8146),\n",
       " ('的', 0.015531618148088455, 581858),\n",
       " ('一再', 0.014585835859179497, 656),\n",
       " ('海德格', 0.012227386236190796, 127),\n",
       " ('本人', 0.010999063961207867, 446),\n",
       " ('撰文', 0.010789417661726475, 31),\n",
       " ('發音法', 0.009365148842334747, 56),\n",
       " ('慰安婦', 0.007956653833389282, 62),\n",
       " ('楊照', 0.007255136966705322, 22),\n",
       " ('評論家', 0.0070068370550870895, 66),\n",
       " ('中文', 0.005774267483502626, 834),\n",
       " ('總監', 0.005771581083536148, 90)]"
      ]
     },
     "execution_count": 98,
     "metadata": {},
     "output_type": "execute_result"
    }
   ],
   "source": [
    "fkv.most_similar(\"⿰0-言\", word_only=True, topn=15)"
   ]
  },
  {
   "cell_type": "code",
   "execution_count": 99,
   "metadata": {},
   "outputs": [
    {
     "data": {
      "text/plain": [
       "[('董事長', 0.2662751376628876, 798),\n",
       " ('總裁', 0.22053241729736328, 206),\n",
       " ('當面', 0.21627019345760345, 99),\n",
       " ('衷心', 0.20971834659576416, 65),\n",
       " ('您', 0.20900163054466248, 2391),\n",
       " ('總經理', 0.208250492811203, 725),\n",
       " ('存', 0.2074178010225296, 339),\n",
       " ('對方', 0.20367616415023804, 1354),\n",
       " ('妳', 0.20086030662059784, 3444),\n",
       " ('直言', 0.19442534446716309, 67),\n",
       " ('你', 0.19237902760505676, 25437),\n",
       " ('王令麟', 0.19118930399417877, 25),\n",
       " ('海基會', 0.18816745281219482, 80),\n",
       " ('寄予', 0.18487848341464996, 39),\n",
       " ('質問', 0.1847350150346756, 78)]"
      ]
     },
     "execution_count": 99,
     "metadata": {},
     "output_type": "execute_result"
    }
   ],
   "source": [
    "fkv.most_similar(\"⿰1-言\", word_only=True, topn=15)"
   ]
  },
  {
   "cell_type": "code",
   "execution_count": 61,
   "metadata": {},
   "outputs": [
    {
     "data": {
      "text/plain": [
       "[('/狂.', 0.7999265789985657),\n",
       " ('.狂/', 0.7879579663276672),\n",
       " ('.喜/', 0.7734267115592957),\n",
       " ('/瘋.', 0.7556729316711426),\n",
       " ('/笑.', 0.7411677241325378),\n",
       " ('.奇/', 0.7402149438858032),\n",
       " ('/搖.', 0.7243422865867615),\n",
       " ('.情.', 0.7241436839103699),\n",
       " ('.思.', 0.7212640643119812),\n",
       " ('.聲/', 0.7210627794265747),\n",
       " ('.笑/', 0.7161493897438049)]"
      ]
     },
     "execution_count": 61,
     "metadata": {},
     "output_type": "execute_result"
    }
   ],
   "source": [
    "fkv.most_similar(\"⿰1-王\", no_compo=True, topn=20)"
   ]
  },
  {
   "cell_type": "code",
   "execution_count": 21,
   "metadata": {},
   "outputs": [
    {
     "data": {
      "text/plain": [
       "[('告知', 0.18414877355098724, 233),\n",
       " ('發函', 0.18053746223449707, 53),\n",
       " ('代為', 0.16272766888141632, 121),\n",
       " ('請示', 0.1619788408279419, 36),\n",
       " ('澄清', 0.15596842765808105, 219),\n",
       " ('詢問', 0.14519980549812317, 422),\n",
       " ('縣府', 0.14147548377513885, 369),\n",
       " ('當面', 0.14122237265110016, 99),\n",
       " ('調閱', 0.14080533385276794, 52),\n",
       " ('檢方', 0.1406760811805725, 212)]"
      ]
     },
     "execution_count": 21,
     "metadata": {},
     "output_type": "execute_result"
    }
   ],
   "source": [
    "fkv.most_similar(\"⿰1-青\", word_only=True)"
   ]
  },
  {
   "cell_type": "code",
   "execution_count": 22,
   "metadata": {},
   "outputs": [
    {
     "data": {
      "text/plain": [
       "[('/情.', 0.7429115772247314),\n",
       " ('.意/', 0.7060779333114624),\n",
       " ('.況/', 0.6777233481407166),\n",
       " ('.情/', 0.6765612959861755),\n",
       " ('.請/', 0.6670852899551392),\n",
       " ('/要.', 0.6661325693130493),\n",
       " ('/請.', 0.6596693992614746)]"
      ]
     },
     "execution_count": 22,
     "metadata": {},
     "output_type": "execute_result"
    }
   ],
   "source": [
    "fkv.most_similar(\"⿰1-青\", no_compo=True)"
   ]
  },
  {
   "cell_type": "code",
   "execution_count": 43,
   "metadata": {},
   "outputs": [
    {
     "data": {
      "text/plain": [
       "[('⿰1-攵', 0.8779555559158325),\n",
       " ('⿺0-辶', 0.8765275478363037),\n",
       " ('⿰0-亻', 0.8541306257247925),\n",
       " ('⿰0-糹', 0.8506685495376587),\n",
       " ('⿰0-言', 0.8499289751052856)]"
      ]
     },
     "execution_count": 43,
     "metadata": {},
     "output_type": "execute_result"
    }
   ],
   "source": [
    "fkv.most_similar(\"⿰0-扌\", topn=5)"
   ]
  },
  {
   "cell_type": "code",
   "execution_count": 46,
   "metadata": {},
   "outputs": [
    {
     "data": {
      "text/plain": [
       "[('試圖', 0.05891113355755806, 344),\n",
       " ('用來', 0.05834304541349411, 648),\n",
       " ('—', 0.02609739638864994, 18),\n",
       " ('武器', 0.02313714101910591, 527),\n",
       " ('向', 0.022752398625016212, 7923),\n",
       " ('刻意', 0.012573271989822388, 471),\n",
       " ('的', 0.01229807361960411, 581858),\n",
       " ('波', 0.010036737658083439, 772),\n",
       " ('將', 0.008533087559044361, 27145),\n",
       " ('該', 0.003921296447515488, 8146)]"
      ]
     },
     "execution_count": 46,
     "metadata": {},
     "output_type": "execute_result"
    }
   ],
   "source": [
    "fkv.most_similar(\"⿰0-扌\", word_only=True)"
   ]
  },
  {
   "cell_type": "code",
   "execution_count": 9,
   "metadata": {},
   "outputs": [
    {
     "name": "stdout",
     "output_type": "stream",
     "text": [
      "compo tokens:  ['⿰0-礻', '⿰1-土']\n"
     ]
    },
    {
     "data": {
      "text/plain": [
       "[('⿰0-礻', 0.9354299902915955),\n",
       " ('/社.', 0.9329457879066467),\n",
       " ('⿰1-土', 0.9305049180984497),\n",
       " ('.教/', 0.811307430267334),\n",
       " ('.治/', 0.8081908822059631),\n",
       " ('/教.', 0.7963684797286987),\n",
       " ('.育/', 0.7960652709007263),\n",
       " ('/理.', 0.7934108376502991),\n",
       " ('/文.', 0.7913243174552917),\n",
       " ('⿲0-彳', 0.7910422086715698)]"
      ]
     },
     "execution_count": 9,
     "metadata": {},
     "output_type": "execute_result"
    }
   ],
   "source": [
    "fkv.most_similar(\"社\", use_compo_vec=True)"
   ]
  },
  {
   "cell_type": "code",
   "execution_count": 86,
   "metadata": {},
   "outputs": [
    {
     "data": {
      "text/plain": [
       "[('上流', 0.17624442279338837, 50),\n",
       " ('父權', 0.16222922503948212, 177),\n",
       " ('福利', 0.13845762610435486, 655),\n",
       " ('敗壞', 0.12076283991336823, 48),\n",
       " ('現代', 0.11712218821048737, 1922),\n",
       " ('倫理', 0.11614448577165604, 350),\n",
       " ('乃至', 0.11545934528112411, 284),\n",
       " ('人文', 0.11427304893732071, 680),\n",
       " ('社會', 0.1116725280880928, 9691),\n",
       " ('資訊化', 0.11112893372774124, 73)]"
      ]
     },
     "execution_count": 86,
     "metadata": {},
     "output_type": "execute_result"
    }
   ],
   "source": [
    "fkv.most_similar(\"/社.\", word_only=True)"
   ]
  },
  {
   "cell_type": "code",
   "execution_count": 87,
   "metadata": {},
   "outputs": [
    {
     "name": "stdout",
     "output_type": "stream",
     "text": [
      "in word vocab:  True\n",
      "char tokens:  ['/社.', '.會/']\n"
     ]
    },
    {
     "data": {
      "text/plain": [
       "[('暨', 0.08486597239971161, 334),\n",
       " ('福利', 0.08303382247686386, 655),\n",
       " ('文教', 0.05939400941133499, 220),\n",
       " ('促進會', 0.05522868037223816, 68),\n",
       " ('文化', 0.05042145401239395, 6565),\n",
       " ('與', 0.047655247151851654, 42852),\n",
       " ('基金會', 0.04450756311416626, 1110),\n",
       " ('上流', 0.0418526865541935, 50),\n",
       " ('鄒族', 0.0416993722319603, 48),\n",
       " ('婦女', 0.03832096979022026, 1822)]"
      ]
     },
     "execution_count": 87,
     "metadata": {},
     "output_type": "execute_result"
    }
   ],
   "source": [
    "fkv.most_similar(\"社會\", use_char_vec=True, word_only=True)"
   ]
  },
  {
   "cell_type": "code",
   "execution_count": 88,
   "metadata": {},
   "outputs": [
    {
     "name": "stdout",
     "output_type": "stream",
     "text": [
      "in word vocab:  False\n",
      "char tokens:  ['/驢.', '.肉/']\n"
     ]
    },
    {
     "data": {
      "text/plain": [
       "[('牛肉', 0.1485476791858673, 133),\n",
       " ('汁', 0.1424451470375061, 70),\n",
       " ('魚肉', 0.1390373706817627, 54),\n",
       " ('鹽', 0.13313132524490356, 161),\n",
       " ('鳳梨', 0.11642277240753174, 38),\n",
       " ('燉', 0.11438897997140884, 55),\n",
       " ('奶油', 0.11043530702590942, 81),\n",
       " ('少許', 0.10554607212543488, 78),\n",
       " ('肉質', 0.10452785342931747, 41),\n",
       " ('木瓜', 0.10073314607143402, 37)]"
      ]
     },
     "execution_count": 88,
     "metadata": {},
     "output_type": "execute_result"
    }
   ],
   "source": [
    "fkv.most_similar(\"驢肉\", use_char_vec=True, word_only=True)"
   ]
  },
  {
   "cell_type": "code",
   "execution_count": 89,
   "metadata": {},
   "outputs": [
    {
     "name": "stdout",
     "output_type": "stream",
     "text": [
      "in word vocab:  False\n",
      "char tokens:  ['/語.', '.奧/']\n"
     ]
    },
    {
     "data": {
      "text/plain": [
       "[('符號', 0.08971244841814041, 431),\n",
       " ('—', 0.07481905072927475, 18),\n",
       " ('語言', 0.06726217269897461, 2204),\n",
       " ('和', 0.06528167426586151, 35974),\n",
       " ('及', 0.048538051545619965, 25433),\n",
       " ('與', 0.04641526937484741, 42852),\n",
       " ('幾何', 0.02566775679588318, 130),\n",
       " ('轉換成', 0.02523135393857956, 83),\n",
       " ('文字', 0.023704735562205315, 1173),\n",
       " ('源自', 0.02110547386109829, 104)]"
      ]
     },
     "execution_count": 89,
     "metadata": {},
     "output_type": "execute_result"
    }
   ],
   "source": [
    "fkv.most_similar(\"語奧\", use_char_vec=True, word_only=True)"
   ]
  },
  {
   "cell_type": "code",
   "execution_count": null,
   "metadata": {},
   "outputs": [],
   "source": [
    "fkv.most_similar(\"語奧\", use_char_vec=True, word_only=True)"
   ]
  },
  {
   "cell_type": "code",
   "execution_count": 105,
   "metadata": {},
   "outputs": [
    {
     "name": "stdout",
     "output_type": "stream",
     "text": [
      "in word vocab:  False\n",
      "char tokens:  ['/鼠.', '.車/']\n"
     ]
    },
    {
     "data": {
      "text/plain": [
       "[('機車', 0.19752159714698792, 618),\n",
       " ('轎車', 0.1585056483745575, 151),\n",
       " ('搭', 0.1570584625005722, 520),\n",
       " ('輛', 0.14658498764038086, 612),\n",
       " ('汽車', 0.14584365487098694, 1060),\n",
       " ('駕駛', 0.14223100244998932, 225),\n",
       " ('車', 0.1281992346048355, 1686),\n",
       " ('自行車', 0.12665173411369324, 92),\n",
       " ('巴士', 0.12636211514472961, 184),\n",
       " ('搭乘', 0.12316432595252991, 263)]"
      ]
     },
     "execution_count": 105,
     "metadata": {},
     "output_type": "execute_result"
    }
   ],
   "source": [
    "fkv.most_similar(\"車\", use_char_vec=True, word_only=True)"
   ]
  },
  {
   "cell_type": "code",
   "execution_count": 24,
   "metadata": {},
   "outputs": [],
   "source": [
    "from sklearn.decomposition import PCA"
   ]
  },
  {
   "cell_type": "code",
   "execution_count": 25,
   "metadata": {},
   "outputs": [],
   "source": [
    "pca = PCA(2)"
   ]
  },
  {
   "cell_type": "code",
   "execution_count": 26,
   "metadata": {},
   "outputs": [],
   "source": [
    "import numpy as np\n",
    "vec = fkv.vectors\n",
    "norms = np.linalg.norm(vec, axis=1)\n",
    "norm_vec = vec / norms[:, np.newaxis]\n",
    "proj = pca.fit_transform(norm_vec)\n"
   ]
  },
  {
   "cell_type": "code",
   "execution_count": 36,
   "metadata": {},
   "outputs": [
    {
     "data": {
      "text/plain": [
       "<matplotlib.collections.PathCollection at 0x2ed93286970>"
      ]
     },
     "execution_count": 36,
     "metadata": {},
     "output_type": "execute_result"
    },
    {
     "data": {
      "image/png": "[encoded data removed]",
      "text/plain": [
       "<Figure size 432x288 with 1 Axes>"
      ]
     },
     "metadata": {
      "needs_background": "light"
     },
     "output_type": "display_data"
    }
   ],
   "source": [
    "from matplotlib import pyplot as plt\n",
    "n_compo_offset = fkv.n_word+fkv.n_compo\n",
    "plt.scatter(proj[:fkv.n_word, 0], proj[:fkv.n_word, 1], c='red', s=0.5)\n",
    "plt.scatter(proj[n_compo_offset:, 0], proj[n_compo_offset:, 1], c='#00AA0033', s=0.5)\n",
    "plt.scatter(proj[fkv.n_word:n_compo_offset, 0], proj[fkv.n_word:n_compo_offset, 1], c='#0000AA66', s=0.5)"
   ]
  },
  {
   "cell_type": "code",
   "execution_count": null,
   "metadata": {},
   "outputs": [],
   "source": []
  }
 ],
 "metadata": {
  "kernelspec": {
   "display_name": "Python 3",
   "language": "python",
   "name": "python3"
  },
  "language_info": {
   "codemirror_mode": {
    "name": "ipython",
    "version": 3
   },
   "file_extension": ".py",
   "mimetype": "text/x-python",
   "name": "python",
   "nbconvert_exporter": "python",
   "pygments_lexer": "ipython3",
   "version": "3.8.2"
  }
 },
 "nbformat": 4,
 "nbformat_minor": 4
}
