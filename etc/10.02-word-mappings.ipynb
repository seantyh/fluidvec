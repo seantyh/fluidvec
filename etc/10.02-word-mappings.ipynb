{
 "cells": [
  {
   "cell_type": "code",
   "execution_count": null,
   "metadata": {},
   "outputs": [],
   "source": [
    "%load_ext autoreload\n",
    "%autoreload 2"
   ]
  },
  {
   "cell_type": "code",
   "execution_count": 1,
   "metadata": {},
   "outputs": [],
   "source": [
    "import sys\n",
    "sys.path.append(\"../src\")\n",
    "sys.path.append(\"../../CompoTree/src\")"
   ]
  },
  {
   "cell_type": "code",
   "execution_count": 2,
   "metadata": {},
   "outputs": [],
   "source": [
    "from fluidvec import *\n",
    "from CompoTree import ComponentTree"
   ]
  },
  {
   "cell_type": "code",
   "execution_count": 3,
   "metadata": {},
   "outputs": [],
   "source": [
    "ctree = ComponentTree.load()"
   ]
  },
  {
   "cell_type": "code",
   "execution_count": 4,
   "metadata": {},
   "outputs": [
    {
     "data": {
      "text/plain": [
       "(3504, 20396, 217350)"
      ]
     },
     "execution_count": 4,
     "metadata": {},
     "output_type": "execute_result"
    }
   ],
   "source": [
    "compo_vocab = Vocabulary.load(\"../data/compo_vocab.pkl\")\n",
    "char_vocab = Vocabulary.load(\"../data/char_vocab.pkl\")\n",
    "word_vocab = Vocabulary.load(\"../data/word_vocab.pkl\")\n",
    "len(compo_vocab), len(char_vocab), len(word_vocab)"
   ]
  },
  {
   "cell_type": "code",
   "execution_count": 5,
   "metadata": {},
   "outputs": [],
   "source": [
    "a, b, c = make_word_tuple(\"電腦\", ctree)"
   ]
  },
  {
   "cell_type": "code",
   "execution_count": 6,
   "metadata": {},
   "outputs": [
    {
     "data": {
      "text/plain": [
       "(['⿱0-雨', '⿱1-⿻日乚', '⿰0-月', '⿰1-𡿺'], ['_電', '腦_'], '電腦')"
      ]
     },
     "execution_count": 6,
     "metadata": {},
     "output_type": "execute_result"
    }
   ],
   "source": [
    "a, b, c"
   ]
  },
  {
   "cell_type": "code",
   "execution_count": 7,
   "metadata": {},
   "outputs": [
    {
     "data": {
      "application/vnd.jupyter.widget-view+json": {
       "model_id": "2db510cb0f6d41d89bba7d8ae693535e",
       "version_major": 2,
       "version_minor": 0
      },
      "text/plain": [
       "HBox(children=(FloatProgress(value=0.0, max=217350.0), HTML(value='')))"
      ]
     },
     "metadata": {},
     "output_type": "display_data"
    },
    {
     "name": "stdout",
     "output_type": "stream",
     "text": [
      "\n"
     ]
    }
   ],
   "source": [
    "from tqdm.auto import tqdm\n",
    "word_mappings = {}\n",
    "for word in tqdm(word_vocab.vocab):\n",
    "    components, chars, word = make_word_tuple(word, ctree)\n",
    "    compo_idxs = [compo_vocab.encode(x) for x in components]\n",
    "    char_idxs = [char_vocab.encode(x) for x in chars]\n",
    "    word_idx = word_vocab.encode(word)\n",
    "    word_mappings[word] = {\"compos\": compo_idxs, \"chars\": char_idxs, \"word\": word_idx}\n",
    "    "
   ]
  },
  {
   "cell_type": "code",
   "execution_count": 8,
   "metadata": {},
   "outputs": [
    {
     "name": "stdout",
     "output_type": "stream",
     "text": [
      "compos:  ['⿱0-雨', '⿱1-⿻日乚', '⿰0-月', '⿰1-𡿺']\n",
      "chars:  ['_電', '腦_']\n",
      "word:  電腦\n"
     ]
    }
   ],
   "source": [
    "a = word_mappings[\"電腦\"]\n",
    "print(\"compos: \", [compo_vocab.decode(x) for x in a[\"compos\"]])\n",
    "print(\"chars: \", [char_vocab.decode(x) for x in a[\"chars\"]])\n",
    "print(\"word: \", word_vocab.decode(a[\"word\"]))"
   ]
  },
  {
   "cell_type": "code",
   "execution_count": 10,
   "metadata": {},
   "outputs": [],
   "source": [
    "import pickle\n",
    "with open(\"../data/word_mappings.pkl\", \"wb\") as fout:\n",
    "    pickle.dump(word_mappings, fout)"
   ]
  },
  {
   "cell_type": "code",
   "execution_count": null,
   "metadata": {},
   "outputs": [],
   "source": []
  }
 ],
 "metadata": {
  "kernelspec": {
   "display_name": "Python 3",
   "language": "python",
   "name": "python3"
  },
  "language_info": {
   "codemirror_mode": {
    "name": "ipython",
    "version": 3
   },
   "file_extension": ".py",
   "mimetype": "text/x-python",
   "name": "python",
   "nbconvert_exporter": "python",
   "pygments_lexer": "ipython3",
   "version": "3.8.2"
  }
 },
 "nbformat": 4,
 "nbformat_minor": 4
}
