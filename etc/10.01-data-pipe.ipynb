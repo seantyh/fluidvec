{
 "cells": [
  {
   "cell_type": "code",
   "execution_count": 1,
   "metadata": {},
   "outputs": [],
   "source": [
    "%load_ext autoreload\n",
    "%autoreload 2"
   ]
  },
  {
   "cell_type": "code",
   "execution_count": 2,
   "metadata": {},
   "outputs": [],
   "source": [
    "import torch\n",
    "from torch.utils.data import Dataset"
   ]
  },
  {
   "cell_type": "code",
   "execution_count": 15,
   "metadata": {},
   "outputs": [],
   "source": [
    "import sys\n",
    "sys.path.append(\"../../pyASBC/src\")\n",
    "sys.path.append(\"../../CompoTree/src\")"
   ]
  },
  {
   "cell_type": "code",
   "execution_count": 17,
   "metadata": {},
   "outputs": [],
   "source": [
    "import pyASBC\n",
    "from CompoTree import ComponentTree"
   ]
  },
  {
   "cell_type": "code",
   "execution_count": 19,
   "metadata": {},
   "outputs": [],
   "source": [
    "asbc = pyASBC.Asbc5Corpus()\n",
    "ctree = ComponentTree.load()"
   ]
  },
  {
   "cell_type": "code",
   "execution_count": 13,
   "metadata": {},
   "outputs": [],
   "source": [
    "from itertools import islice\n",
    "sent_iter = asbc.iter_sentences()\n",
    "sents = list(islice(sent_iter, 0, 10))"
   ]
  },
  {
   "cell_type": "code",
   "execution_count": 21,
   "metadata": {},
   "outputs": [],
   "source": [
    "word = sents[0][0]"
   ]
  },
  {
   "cell_type": "code",
   "execution_count": 25,
   "metadata": {},
   "outputs": [],
   "source": [
    "cc = ctree.query(\"時\", use_flag=\"shortest\", max_depth=1)[0]"
   ]
  },
  {
   "cell_type": "code",
   "execution_count": 28,
   "metadata": {},
   "outputs": [
    {
     "data": {
      "text/plain": [
       "['日', '寺']"
      ]
     },
     "execution_count": 28,
     "metadata": {},
     "output_type": "execute_result"
    }
   ],
   "source": [
    "cc.components()"
   ]
  },
  {
   "cell_type": "code",
   "execution_count": 99,
   "metadata": {},
   "outputs": [],
   "source": [
    "from itertools import chain\n",
    "def serialize_components(ch):\n",
    "    try:\n",
    "        compos = ctree.query(ch, use_flag=\"shortest\", max_depth=1)[0]\n",
    "    except Exception as ex:\n",
    "        compos = \"\"\n",
    "    if isinstance(compos, str):\n",
    "        return [\"<COMPO_NA>\"]\n",
    "    \n",
    "    idc = compos.idc\n",
    "    serialized = []\n",
    "    for i, c in enumerate(compos.components()):\n",
    "        if isinstance(c, str):            \n",
    "            serialized.append(f\"{idc}{i}{c}\")\n",
    "        else:\n",
    "            serialized.append(\"<COMPO_NA>\")\n",
    "    return serialized\n",
    "\n",
    "def make_charpos(word):\n",
    "    charpos = []\n",
    "    for i in range(len(word)):\n",
    "        cp = \"\"\n",
    "        if i == 0:\n",
    "            cp += \"_\"\n",
    "        cp += word[i]\n",
    "        if i == len(word)-1:\n",
    "            cp += \"_\"\n",
    "        charpos.append(cp)\n",
    "    return charpos\n",
    "    \n",
    "def make_word_tuple(word):\n",
    "    chars = make_charpos(word)\n",
    "    compos = [serialize_components(ch) for ch in word]\n",
    "    compos = list(chain.from_iterable(compos))\n",
    "    return (compos, chars, word)"
   ]
  },
  {
   "cell_type": "code",
   "execution_count": 100,
   "metadata": {},
   "outputs": [],
   "source": [
    "class Vocabulary:\n",
    "    def __init__(self):\n",
    "        self.vocab = {\"<UNK>\": 0, \"<PAD>\": 1}\n",
    "        self.freq = {v: 0 for v in self.vocab.values()}        \n",
    "        self.make_rev_vocab()\n",
    "        self.is_dirty = False\n",
    "    \n",
    "    def __repr__(self):\n",
    "        return f\"<Vocabulary: {len(self.vocab)} term(s)>\"\n",
    "    \n",
    "    def __len__(self):\n",
    "        return len(self.vocab)\n",
    "    \n",
    "    def add(self, term):\n",
    "        if term not in self.vocab:\n",
    "            term_idx = len(self.vocab)\n",
    "            self.vocab[term] = term_idx\n",
    "        else:\n",
    "            term_idx = self.vocab[term]\n",
    "        self.freq[term_idx] = self.freq.get(term_idx, 0) + 1\n",
    "        self.is_dirty = True\n",
    "    \n",
    "    def make_rev_vocab(self):\n",
    "        self.rev_vocab = {v: k for k, v in self.vocab.items()}\n",
    "        self.is_dirty = False\n",
    "        \n",
    "    def encode(self, term):\n",
    "        return self.vocab.get(term, 0)\n",
    "    \n",
    "    def decode(self, index):\n",
    "        if not self.rev_vocab or self.is_dirty:\n",
    "            self.make_rev_vocab()\n",
    "        return self.rev_vocab.get(index, \"<UNK>\")\n",
    "    \n",
    "    def save(self, fpath):\n",
    "        with open(fpath, \"wb\") as fout:\n",
    "            pickle.dump((self.vocab, self.freq), fout)\n",
    "    \n",
    "    @classmethod\n",
    "    def load(self, fpath):\n",
    "        with open(fpath, \"rb\") as fin:\n",
    "            vocab, freq = pickle.load(fin)\n",
    "        loaded = Vocabulary()\n",
    "        loaded.vocab = vocab\n",
    "        loaded.freq = freq\n",
    "        return loaded"
   ]
  },
  {
   "cell_type": "code",
   "execution_count": 101,
   "metadata": {},
   "outputs": [],
   "source": [
    "word_vocab = Vocabulary()\n",
    "char_vocab = Vocabulary()\n",
    "compo_vocab = Vocabulary()"
   ]
  },
  {
   "cell_type": "code",
   "execution_count": 102,
   "metadata": {},
   "outputs": [],
   "source": [
    "word_vocab.add(\"測試\")\n",
    "word_vocab.add(\"測試\")\n",
    "word_vocab.add(\"程式\")\n",
    "assert word_vocab.encode(\"測試\") == 2\n",
    "assert word_vocab.decode(2) == \"測試\"\n",
    "assert len(word_vocab) == 4"
   ]
  },
  {
   "cell_type": "code",
   "execution_count": 103,
   "metadata": {},
   "outputs": [
    {
     "data": {
      "application/vnd.jupyter.widget-view+json": {
       "model_id": "11d786728b914b90a72fc94bf2004403",
       "version_major": 2,
       "version_minor": 0
      },
      "text/plain": [
       "HBox(children=(FloatProgress(value=1.0, bar_style='info', max=1.0), HTML(value='')))"
      ]
     },
     "metadata": {},
     "output_type": "display_data"
    },
    {
     "name": "stdout",
     "output_type": "stream",
     "text": [
      "\n"
     ]
    },
    {
     "data": {
      "text/plain": [
       "(3289, 20396, 217350)"
      ]
     },
     "execution_count": 103,
     "metadata": {},
     "output_type": "execute_result"
    }
   ],
   "source": [
    "import pickle\n",
    "from tqdm.auto import tqdm\n",
    "word_iter = asbc.iter_words()\n",
    "# word_iter = islice(word_iter, 0, 100)\n",
    "for word in tqdm(word_iter):\n",
    "    components, chars, word = make_word_tuple(word)\n",
    "    for compo_x in components:\n",
    "        compo_vocab.add(compo_x)\n",
    "    for char_x in chars:\n",
    "        char_vocab.add(char_x)\n",
    "    word_vocab.add(word)\n",
    "compo_vocab.save(\"../data/compo_vocab.pkl\")\n",
    "char_vocab.save(\"../data/char_vocab.pkl\")\n",
    "word_vocab.save(\"../data/word_vocab.pkl\")\n",
    "\n",
    "len(compo_vocab), len(char_vocab), len(word_vocab)"
   ]
  },
  {
   "cell_type": "code",
   "execution_count": 97,
   "metadata": {},
   "outputs": [
    {
     "data": {
      "text/plain": [
       "(171, 149, 89)"
      ]
     },
     "execution_count": 97,
     "metadata": {},
     "output_type": "execute_result"
    }
   ],
   "source": [
    "compo_vocab = Vocabulary.load(\"../data/compo_vocab.pkl\")\n",
    "char_vocab = Vocabulary.load(\"../data/char_vocab.pkl\")\n",
    "word_vocab = Vocabulary.load(\"../data/word_vocab.pkl\")\n",
    "len(compo_vocab), len(char_vocab), len(word_vocab)"
   ]
  },
  {
   "cell_type": "code",
   "execution_count": null,
   "metadata": {},
   "outputs": [],
   "source": []
  }
 ],
 "metadata": {
  "kernelspec": {
   "display_name": "Python 3",
   "language": "python",
   "name": "python3"
  },
  "language_info": {
   "codemirror_mode": {
    "name": "ipython",
    "version": 3
   },
   "file_extension": ".py",
   "mimetype": "text/x-python",
   "name": "python",
   "nbconvert_exporter": "python",
   "pygments_lexer": "ipython3",
   "version": "3.8.2"
  }
 },
 "nbformat": 4,
 "nbformat_minor": 4
}
