{
 "cells": [
  {
   "cell_type": "code",
   "execution_count": 1,
   "metadata": {},
   "outputs": [],
   "source": [
    "%load_ext autoreload\n",
    "%autoreload 2"
   ]
  },
  {
   "cell_type": "code",
   "execution_count": 2,
   "metadata": {},
   "outputs": [],
   "source": [
    "import torch\n",
    "from torch.utils.data import Dataset"
   ]
  },
  {
   "cell_type": "code",
   "execution_count": 3,
   "metadata": {},
   "outputs": [],
   "source": [
    "import sys\n",
    "sys.path.append(\"../src\")\n",
    "sys.path.append(\"../../pyASBC/src\")\n",
    "sys.path.append(\"../../CompoTree/src\")"
   ]
  },
  {
   "cell_type": "code",
   "execution_count": 4,
   "metadata": {},
   "outputs": [],
   "source": [
    "from fluidvec import *\n",
    "import pyASBC\n",
    "from CompoTree import ComponentTree"
   ]
  },
  {
   "cell_type": "code",
   "execution_count": 5,
   "metadata": {},
   "outputs": [],
   "source": [
    "asbc = pyASBC.Asbc5Corpus()\n",
    "ctree = ComponentTree.load()"
   ]
  },
  {
   "cell_type": "code",
   "execution_count": 6,
   "metadata": {},
   "outputs": [],
   "source": [
    "from itertools import islice\n",
    "sent_iter = asbc.iter_sentences()\n",
    "sents = list(islice(sent_iter, 0, 10))"
   ]
  },
  {
   "cell_type": "code",
   "execution_count": 7,
   "metadata": {},
   "outputs": [],
   "source": [
    "word = sents[0][0]"
   ]
  },
  {
   "cell_type": "code",
   "execution_count": 8,
   "metadata": {},
   "outputs": [],
   "source": [
    "cc = ctree.query(\"時\", use_flag=\"shortest\", max_depth=1)[0]"
   ]
  },
  {
   "cell_type": "code",
   "execution_count": 9,
   "metadata": {},
   "outputs": [
    {
     "data": {
      "text/plain": [
       "['日', '寺']"
      ]
     },
     "execution_count": 9,
     "metadata": {},
     "output_type": "execute_result"
    }
   ],
   "source": [
    "cc.components()"
   ]
  },
  {
   "cell_type": "code",
   "execution_count": 10,
   "metadata": {},
   "outputs": [],
   "source": [
    "word_vocab = Vocabulary()\n",
    "char_vocab = Vocabulary()\n",
    "compo_vocab = Vocabulary()"
   ]
  },
  {
   "cell_type": "code",
   "execution_count": 11,
   "metadata": {},
   "outputs": [],
   "source": [
    "word_vocab.add(\"測試\")\n",
    "word_vocab.add(\"測試\")\n",
    "word_vocab.add(\"程式\")\n",
    "assert word_vocab.encode(\"測試\") == 2\n",
    "assert word_vocab.decode(2) == \"測試\"\n",
    "assert len(word_vocab) == 4"
   ]
  },
  {
   "cell_type": "code",
   "execution_count": 12,
   "metadata": {},
   "outputs": [
    {
     "data": {
      "application/vnd.jupyter.widget-view+json": {
       "model_id": "19749bdd81444ab7a4ded9e887f28ec8",
       "version_major": 2,
       "version_minor": 0
      },
      "text/plain": [
       "HBox(children=(FloatProgress(value=1.0, bar_style='info', max=1.0), HTML(value='')))"
      ]
     },
     "metadata": {},
     "output_type": "display_data"
    },
    {
     "name": "stdout",
     "output_type": "stream",
     "text": [
      "\n"
     ]
    },
    {
     "data": {
      "text/plain": [
       "(3504, 20396, 217350)"
      ]
     },
     "execution_count": 12,
     "metadata": {},
     "output_type": "execute_result"
    }
   ],
   "source": [
    "import pickle\n",
    "from tqdm.auto import tqdm\n",
    "word_iter = asbc.iter_words()\n",
    "# word_iter = islice(word_iter, 0, 100)\n",
    "for word in tqdm(word_iter):\n",
    "    components, chars, word = make_word_tuple(word, ctree)\n",
    "    for compo_x in components:\n",
    "        compo_vocab.add(compo_x)\n",
    "    for char_x in chars:\n",
    "        char_vocab.add(char_x)\n",
    "    word_vocab.add(word)\n",
    "compo_vocab.save(\"../data/compo_vocab_test.pkl\")\n",
    "char_vocab.save(\"../data/char_vocab_test.pkl\")\n",
    "word_vocab.save(\"../data/word_vocab_test.pkl\")\n",
    "\n",
    "len(compo_vocab), len(char_vocab), len(word_vocab)"
   ]
  },
  {
   "cell_type": "code",
   "execution_count": 13,
   "metadata": {},
   "outputs": [
    {
     "data": {
      "text/plain": [
       "(3289, 20396, 217350)"
      ]
     },
     "execution_count": 13,
     "metadata": {},
     "output_type": "execute_result"
    }
   ],
   "source": [
    "compo_vocab = Vocabulary.load(\"../data/compo_vocab.pkl\")\n",
    "char_vocab = Vocabulary.load(\"../data/char_vocab.pkl\")\n",
    "word_vocab = Vocabulary.load(\"../data/word_vocab.pkl\")\n",
    "len(compo_vocab), len(char_vocab), len(word_vocab)"
   ]
  },
  {
   "cell_type": "code",
   "execution_count": null,
   "metadata": {},
   "outputs": [],
   "source": []
  }
 ],
 "metadata": {
  "kernelspec": {
   "display_name": "Python 3",
   "language": "python",
   "name": "python3"
  },
  "language_info": {
   "codemirror_mode": {
    "name": "ipython",
    "version": 3
   },
   "file_extension": ".py",
   "mimetype": "text/x-python",
   "name": "python",
   "nbconvert_exporter": "python",
   "pygments_lexer": "ipython3",
   "version": "3.8.2"
  }
 },
 "nbformat": 4,
 "nbformat_minor": 4
}
