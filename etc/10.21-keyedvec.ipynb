{
 "cells": [
  {
   "cell_type": "code",
   "execution_count": 1,
   "metadata": {},
   "outputs": [],
   "source": [
    "%load_ext autoreload\n",
    "%autoreload 2"
   ]
  },
  {
   "cell_type": "code",
   "execution_count": 2,
   "metadata": {},
   "outputs": [],
   "source": [
    "import sys\n",
    "sys.path.append(\"../src\")"
   ]
  },
  {
   "cell_type": "code",
   "execution_count": 3,
   "metadata": {},
   "outputs": [],
   "source": [
    "from fluidvec import *"
   ]
  },
  {
   "cell_type": "code",
   "execution_count": 4,
   "metadata": {},
   "outputs": [],
   "source": [
    "import torch\n",
    "import pickle\n",
    "from torch.optim import AdamW\n",
    "from matplotlib import pyplot as plt\n",
    "from tqdm.auto import tqdm\n",
    "from pathlib import Path\n",
    "from fluidvec.dataset import TrainDataset, get_dataloader\n",
    "# torch.autograd.set_detect_anomaly(True)"
   ]
  },
  {
   "cell_type": "code",
   "execution_count": 5,
   "metadata": {},
   "outputs": [],
   "source": [
    "from gensim.models import KeyedVectors"
   ]
  },
  {
   "cell_type": "code",
   "execution_count": 6,
   "metadata": {},
   "outputs": [
    {
     "name": "stdout",
     "output_type": "stream",
     "text": [
      "device:  cpu\n",
      "n_neg_sample:  3\n"
     ]
    },
    {
     "data": {
      "text/plain": [
       "<All keys matched successfully>"
      ]
     },
     "execution_count": 6,
     "metadata": {},
     "output_type": "execute_result"
    }
   ],
   "source": [
    "model_dir = Path(\"../data/model/fluidvec-compo.5\")\n",
    "new_vs = VocabSet.load(model_dir)\n",
    "hypers = torch.load(model_dir/\"hypers.pt\")\n",
    "new_model = FluidVecSG(len(new_vs.word_vocab), len(new_vs.char_vocab), len(new_vs.compo_vocab), **hypers)\n",
    "new_model.load_state_dict(torch.load(model_dir/\"model.pt\"))"
   ]
  },
  {
   "cell_type": "code",
   "execution_count": 7,
   "metadata": {},
   "outputs": [],
   "source": [
    "kv = KeyedVectors(hypers[\"dim\"])"
   ]
  },
  {
   "cell_type": "code",
   "execution_count": 8,
   "metadata": {},
   "outputs": [],
   "source": [
    "words = sorted(list(new_vs.word_vocab.vocab.keys()), key=new_vs.word_vocab.vocab.get)\n",
    "chars = sorted(list(new_vs.char_vocab.vocab.keys()), key=new_vs.char_vocab.vocab.get)\n",
    "compos = sorted(list(new_vs.compo_vocab.vocab.keys()), key=new_vs.compo_vocab.vocab.get)\n",
    "word_vecs = new_model.word_emb.weight.detach().numpy()\n",
    "char_vecs = new_model.char_emb.weight.detach().numpy()\n",
    "compo_vecs = new_model.compo_emb.weight.detach().numpy()\n",
    "assert len(words) == word_vecs.shape[0]\n",
    "assert len(chars) == char_vecs.shape[0]\n",
    "assert len(compos) == compo_vecs.shape[0]"
   ]
  },
  {
   "cell_type": "code",
   "execution_count": 9,
   "metadata": {},
   "outputs": [],
   "source": [
    "kv.add_vectors(words, word_vecs)\n",
    "kv.add_vectors(chars, char_vecs)\n",
    "kv.add_vectors(compos, compo_vecs)"
   ]
  },
  {
   "cell_type": "code",
   "execution_count": 10,
   "metadata": {},
   "outputs": [],
   "source": [
    "import pickle\n",
    "with open(\"../data/word_mappings.pkl\", \"rb\") as fin:\n",
    "    word_mappings = pickle.load(fin)\n",
    "word_mappings.update({\n",
    "    \"<UNK>\": {'compos': [0], 'chars': [0], 'word': 0},\n",
    "    \"<PAD>\": {'compos': [1], 'chars': [1], 'word': 1}\n",
    "})"
   ]
  },
  {
   "cell_type": "code",
   "execution_count": 11,
   "metadata": {},
   "outputs": [
    {
     "data": {
      "text/plain": [
       "[('設備', 0.9537464380264282),\n",
       " ('硬體', 0.9529376029968262),\n",
       " ('主機', 0.9517901539802551),\n",
       " ('應用', 0.9511823654174805),\n",
       " ('軟件', 0.9496055841445923),\n",
       " ('裝置', 0.9487616419792175),\n",
       " ('技術', 0.9484235644340515),\n",
       " ('電算', 0.9476643800735474),\n",
       " ('程式', 0.9476211667060852),\n",
       " ('網路', 0.9466950297355652)]"
      ]
     },
     "execution_count": 11,
     "metadata": {},
     "output_type": "execute_result"
    }
   ],
   "source": [
    "kv.most_similar(\"電腦\")"
   ]
  },
  {
   "cell_type": "code",
   "execution_count": 12,
   "metadata": {},
   "outputs": [],
   "source": [
    "def make_model_input(word):\n",
    "    item = {k: v for k, v in word_mappings[word].items()}\n",
    "    item[\"compos\"] = [new_vs.compo_vocab.decode(x) for x in item[\"compos\"]]\n",
    "    item[\"chars\"] = [new_vs.char_vocab.decode(x) for x in item[\"chars\"]]    \n",
    "    return item[\"chars\"] + item[\"compos\"]"
   ]
  },
  {
   "cell_type": "code",
   "execution_count": 22,
   "metadata": {},
   "outputs": [
    {
     "data": {
      "text/plain": [
       "['_電', '腦', '桌_', '⿱0-雨', '⿱1-⿻日乚', '⿰0-月', '⿰1-𡿺', '⿱0-⺊', '⿱1-杲']"
      ]
     },
     "execution_count": 22,
     "metadata": {},
     "output_type": "execute_result"
    }
   ],
   "source": [
    "make_model_input(\"電腦桌\")"
   ]
  },
  {
   "cell_type": "code",
   "execution_count": 25,
   "metadata": {},
   "outputs": [
    {
     "data": {
      "text/plain": [
       "[('柚子核', 0.271586537361145),\n",
       " ('鬼頭刀', 0.2588353157043457),\n",
       " ('⿺0-走', 0.2395337074995041),\n",
       " ('悲欣', 0.23821423947811127),\n",
       " ('_諱', 0.2362767606973648),\n",
       " ('⿸0-䧹', 0.2349133938550949),\n",
       " ('梭倫', 0.23455743491649628),\n",
       " ('書平', 0.233648419380188),\n",
       " ('上軌道', 0.23044215142726898),\n",
       " ('界山', 0.22549574077129364)]"
      ]
     },
     "execution_count": 25,
     "metadata": {},
     "output_type": "execute_result"
    }
   ],
   "source": [
    "kv.most_similar(make_model_input(\"雜誌\"))"
   ]
  },
  {
   "cell_type": "code",
   "execution_count": 21,
   "metadata": {},
   "outputs": [
    {
     "data": {
      "text/plain": [
       "[('馳', 0.9685375690460205),\n",
       " ('獸', 0.9677475094795227),\n",
       " ('盜', 0.9674520492553711),\n",
       " ('鳳', 0.964853048324585),\n",
       " ('與', 0.9646254181861877),\n",
       " ('虛', 0.9638371467590332),\n",
       " ('銳', 0.9635658264160156),\n",
       " ('劍', 0.9627208113670349),\n",
       " ('則', 0.9626174569129944),\n",
       " ('懼', 0.962375283241272)]"
      ]
     },
     "execution_count": 21,
     "metadata": {},
     "output_type": "execute_result"
    }
   ],
   "source": [
    "kv.most_similar([\"\"])"
   ]
  },
  {
   "cell_type": "code",
   "execution_count": null,
   "metadata": {},
   "outputs": [],
   "source": []
  }
 ],
 "metadata": {
  "kernelspec": {
   "display_name": "Python 3",
   "language": "python",
   "name": "python3"
  },
  "language_info": {
   "codemirror_mode": {
    "name": "ipython",
    "version": 3
   },
   "file_extension": ".py",
   "mimetype": "text/x-python",
   "name": "python",
   "nbconvert_exporter": "python",
   "pygments_lexer": "ipython3",
   "version": "3.8.2"
  }
 },
 "nbformat": 4,
 "nbformat_minor": 4
}
