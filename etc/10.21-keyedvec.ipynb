{
 "cells": [
  {
   "cell_type": "code",
   "execution_count": 1,
   "metadata": {},
   "outputs": [],
   "source": [
    "%load_ext autoreload\n",
    "%autoreload 2"
   ]
  },
  {
   "cell_type": "code",
   "execution_count": 2,
   "metadata": {},
   "outputs": [],
   "source": [
    "import sys\n",
    "sys.path.append(\"../src\")"
   ]
  },
  {
   "cell_type": "code",
   "execution_count": 3,
   "metadata": {},
   "outputs": [],
   "source": [
    "from fluidvec import *"
   ]
  },
  {
   "cell_type": "code",
   "execution_count": 4,
   "metadata": {},
   "outputs": [],
   "source": [
    "import torch\n",
    "import pickle\n",
    "from torch.optim import AdamW\n",
    "from matplotlib import pyplot as plt\n",
    "from tqdm.auto import tqdm\n",
    "from pathlib import Path\n",
    "from fluidvec.dataset import TrainDataset, get_dataloader\n",
    "# torch.autograd.set_detect_anomaly(True)"
   ]
  },
  {
   "cell_type": "code",
   "execution_count": 5,
   "metadata": {},
   "outputs": [],
   "source": [
    "from gensim.models import KeyedVectors"
   ]
  },
  {
   "cell_type": "code",
   "execution_count": 7,
   "metadata": {},
   "outputs": [
    {
     "name": "stdout",
     "output_type": "stream",
     "text": [
      "device:  cpu\n",
      "n_neg_sample:  5\n"
     ]
    },
    {
     "data": {
      "text/plain": [
       "<All keys matched successfully>"
      ]
     },
     "execution_count": 7,
     "metadata": {},
     "output_type": "execute_result"
    }
   ],
   "source": [
    "model_dir = Path(\"../data/model/fluidvec-compo.6\")\n",
    "new_vs = VocabSet.load(model_dir)\n",
    "hypers = torch.load(model_dir/\"hypers.pt\")\n",
    "new_model = FluidVecSG(len(new_vs.word_vocab), len(new_vs.char_vocab), len(new_vs.compo_vocab), **hypers)\n",
    "new_model.load_state_dict(torch.load(model_dir/\"model.pt\", map_location=torch.device(\"cpu\")))"
   ]
  },
  {
   "cell_type": "code",
   "execution_count": 8,
   "metadata": {},
   "outputs": [],
   "source": [
    "kv = KeyedVectors(hypers[\"dim\"])"
   ]
  },
  {
   "cell_type": "code",
   "execution_count": 9,
   "metadata": {},
   "outputs": [],
   "source": [
    "words = sorted(list(new_vs.word_vocab.vocab.keys()), key=new_vs.word_vocab.vocab.get)\n",
    "chars = sorted(list(new_vs.char_vocab.vocab.keys()), key=new_vs.char_vocab.vocab.get)\n",
    "compos = sorted(list(new_vs.compo_vocab.vocab.keys()), key=new_vs.compo_vocab.vocab.get)\n",
    "word_vecs = new_model.word_emb.weight.detach().numpy()\n",
    "char_vecs = new_model.char_emb.weight.detach().numpy()\n",
    "compo_vecs = new_model.compo_emb.weight.detach().numpy()\n",
    "assert len(words) == word_vecs.shape[0]\n",
    "assert len(chars) == char_vecs.shape[0]\n",
    "assert len(compos) == compo_vecs.shape[0]"
   ]
  },
  {
   "cell_type": "code",
   "execution_count": 10,
   "metadata": {},
   "outputs": [],
   "source": [
    "kv.add_vectors(words, word_vecs)\n",
    "kv.add_vectors(chars, char_vecs)\n",
    "kv.add_vectors(compos, compo_vecs)"
   ]
  },
  {
   "cell_type": "code",
   "execution_count": 11,
   "metadata": {},
   "outputs": [],
   "source": [
    "import pickle\n",
    "with open(\"../data/word_mappings.pkl\", \"rb\") as fin:\n",
    "    word_mappings = pickle.load(fin)\n",
    "word_mappings.update({\n",
    "    \"<UNK>\": {'compos': [0], 'chars': [0], 'word': 0},\n",
    "    \"<PAD>\": {'compos': [1], 'chars': [1], 'word': 1}\n",
    "})"
   ]
  },
  {
   "cell_type": "code",
   "execution_count": 12,
   "metadata": {},
   "outputs": [
    {
     "data": {
      "text/plain": [
       "[('設備', 0.9537464380264282),\n",
       " ('硬體', 0.9529376029968262),\n",
       " ('主機', 0.9517901539802551),\n",
       " ('應用', 0.9511823654174805),\n",
       " ('軟件', 0.9496055841445923),\n",
       " ('裝置', 0.9487616419792175),\n",
       " ('技術', 0.9484235644340515),\n",
       " ('電算', 0.9476643800735474),\n",
       " ('程式', 0.9476211667060852),\n",
       " ('網路', 0.9466950297355652)]"
      ]
     },
     "execution_count": 12,
     "metadata": {},
     "output_type": "execute_result"
    }
   ],
   "source": [
    "kv.most_similar(\"電腦\")"
   ]
  },
  {
   "cell_type": "code",
   "execution_count": 13,
   "metadata": {},
   "outputs": [],
   "source": [
    "def make_model_input(word):\n",
    "    item = {k: v for k, v in word_mappings[word].items()}\n",
    "    item[\"compos\"] = [new_vs.compo_vocab.decode(x) for x in item[\"compos\"]]\n",
    "    item[\"chars\"] = [new_vs.char_vocab.decode(x) for x in item[\"chars\"]]    \n",
    "    return item[\"chars\"] + item[\"compos\"]"
   ]
  },
  {
   "cell_type": "code",
   "execution_count": 31,
   "metadata": {},
   "outputs": [
    {
     "data": {
      "text/plain": [
       "['_人', '物_', '<COMPO_NA>', '⿰0-牛', '⿰1-勿']"
      ]
     },
     "execution_count": 31,
     "metadata": {},
     "output_type": "execute_result"
    }
   ],
   "source": [
    "make_model_input(\"人物\")"
   ]
  },
  {
   "cell_type": "code",
   "execution_count": 32,
   "metadata": {},
   "outputs": [
    {
     "data": {
      "text/plain": [
       "[('⿰0-氵', 0.38182327151298523),\n",
       " ('⿰0-扌', 0.35032176971435547),\n",
       " ('⿰0-亻', 0.34808748960494995),\n",
       " ('⿰0-言', 0.3213883936405182),\n",
       " ('⿱1-心', 0.3032844662666321),\n",
       " ('⿱0-艹', 0.2988269329071045),\n",
       " ('⿰0-木', 0.2956547737121582),\n",
       " ('⿰1-攵', 0.2914125621318817),\n",
       " ('⿰0-糹', 0.27892595529556274),\n",
       " ('⿰0-忄', 0.2753599286079407)]"
      ]
     },
     "execution_count": 32,
     "metadata": {},
     "output_type": "execute_result"
    }
   ],
   "source": [
    "kv.most_similar(make_model_input(\"人物\"))"
   ]
  },
  {
   "cell_type": "code",
   "execution_count": 30,
   "metadata": {},
   "outputs": [
    {
     "data": {
      "text/plain": [
       "[('_也_', 0.2797718942165375),\n",
       " ('_在_', 0.272450715303421),\n",
       " ('_，_', 0.2661602199077606),\n",
       " ('_為_', 0.25626084208488464),\n",
       " ('紀伯倫', 0.24607113003730774),\n",
       " ('對_', 0.2428818941116333),\n",
       " ('_及_', 0.2286974936723709),\n",
       " ('法管學院', 0.22854962944984436),\n",
       " ('安佛羅西', 0.22707603871822357),\n",
       " ('廣告法', 0.2257523536682129)]"
      ]
     },
     "execution_count": 30,
     "metadata": {},
     "output_type": "execute_result"
    }
   ],
   "source": [
    "kv.most_similar([\"_人\", \"設_\"])"
   ]
  },
  {
   "cell_type": "code",
   "execution_count": null,
   "metadata": {},
   "outputs": [],
   "source": []
  }
 ],
 "metadata": {
  "kernelspec": {
   "display_name": "Python 3",
   "language": "python",
   "name": "python3"
  },
  "language_info": {
   "codemirror_mode": {
    "name": "ipython",
    "version": 3
   },
   "file_extension": ".py",
   "mimetype": "text/x-python",
   "name": "python",
   "nbconvert_exporter": "python",
   "pygments_lexer": "ipython3",
   "version": "3.8.2"
  }
 },
 "nbformat": 4,
 "nbformat_minor": 4
}
