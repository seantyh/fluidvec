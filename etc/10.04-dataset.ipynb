{
 "cells": [
  {
   "cell_type": "code",
   "execution_count": 1,
   "metadata": {},
   "outputs": [],
   "source": [
    "%load_ext autoreload\n",
    "%autoreload 2"
   ]
  },
  {
   "cell_type": "code",
   "execution_count": 2,
   "metadata": {},
   "outputs": [],
   "source": [
    "import sys\n",
    "sys.path.append(\"../src\")"
   ]
  },
  {
   "cell_type": "code",
   "execution_count": 3,
   "metadata": {},
   "outputs": [],
   "source": [
    "from fluidvec import *"
   ]
  },
  {
   "cell_type": "code",
   "execution_count": 4,
   "metadata": {},
   "outputs": [],
   "source": [
    "import pickle\n",
    "import torch\n",
    "from torch.utils.data import Dataset"
   ]
  },
  {
   "cell_type": "code",
   "execution_count": 5,
   "metadata": {},
   "outputs": [],
   "source": [
    "import numpy as np\n",
    "class TrainDataset:\n",
    "    def __init__(self, fpath):\n",
    "        fin = open(fpath, \"rb\")\n",
    "        self.data = pickle.load(fin)\n",
    "        fin.close()\n",
    "        \n",
    "    def __len__(self):\n",
    "        return len(self.data)\n",
    "    \n",
    "    def pad_tensor(self, values):\n",
    "        n = max(len(x) for x in values)\n",
    "        w = len(values)\n",
    "        t = np.zeros((w, n))\n",
    "        for i, v in enumerate(values):\n",
    "            t[i, :len(v)] = v\n",
    "        return torch.tensor(t, dtype=torch.int32)\n",
    "    \n",
    "    def __getitem__(self, idx):\n",
    "        tgt, ctx = self.data[idx]\n",
    "        return {\n",
    "            \"tgt_word\": torch.tensor(tgt[\"word\"]).reshape(1, 1),\n",
    "            \"tgt_chars\": torch.tensor(tgt[\"chars\"]).reshape(1, -1),\n",
    "            \"tgt_compos\": torch.tensor(tgt[\"compos\"]).reshape(1, -1),\n",
    "            \"ctx_word\": torch.tensor([x[\"word\"] for x in ctx]).reshape(len(ctx), -1),\n",
    "            \"ctx_chars\": self.pad_tensor([x[\"chars\"] for x in ctx]),\n",
    "            \"ctx_compos\": self.pad_tensor([x[\"compos\"] for x in ctx])\n",
    "        }"
   ]
  },
  {
   "cell_type": "code",
   "execution_count": 6,
   "metadata": {},
   "outputs": [],
   "source": [
    "ds = TrainDataset(\"../data/train_items/train_items_001.pkl\")"
   ]
  },
  {
   "cell_type": "code",
   "execution_count": 7,
   "metadata": {},
   "outputs": [
    {
     "data": {
      "text/plain": [
       "tensor([[1, 2, 3]])"
      ]
     },
     "execution_count": 7,
     "metadata": {},
     "output_type": "execute_result"
    }
   ],
   "source": [
    "torch.tensor([1,2,3]).reshape(1, 3)"
   ]
  },
  {
   "cell_type": "code",
   "execution_count": 8,
   "metadata": {},
   "outputs": [
    {
     "data": {
      "text/plain": [
       "{'tgt_word': tensor([[105]]),\n",
       " 'tgt_chars': tensor([[187]]),\n",
       " 'tgt_compos': tensor([[8]]),\n",
       " 'ctx_word': tensor([[1454],\n",
       "         [2884],\n",
       "         [1164],\n",
       "         [2884]]),\n",
       " 'ctx_chars': tensor([[1112, 1383],\n",
       "         [  29, 1679],\n",
       "         [  20,   75],\n",
       "         [  29, 1679]], dtype=torch.int32),\n",
       " 'ctx_compos': tensor([[ 94,  16,  50, 462],\n",
       "         [  8,  46,  47,   0],\n",
       "         [ 32,  33,  13, 100],\n",
       "         [  8,  46,  47,   0]], dtype=torch.int32)}"
      ]
     },
     "execution_count": 8,
     "metadata": {},
     "output_type": "execute_result"
    }
   ],
   "source": [
    "ds[12345]"
   ]
  },
  {
   "cell_type": "code",
   "execution_count": 9,
   "metadata": {},
   "outputs": [],
   "source": [
    "from torch.utils.data import DataLoader"
   ]
  },
  {
   "cell_type": "code",
   "execution_count": 10,
   "metadata": {},
   "outputs": [
    {
     "data": {
      "text/plain": [
       "4"
      ]
     },
     "execution_count": 10,
     "metadata": {},
     "output_type": "execute_result"
    }
   ],
   "source": [
    "ds[12345][\"ctx_compos\"].size(1)"
   ]
  },
  {
   "cell_type": "code",
   "execution_count": 11,
   "metadata": {},
   "outputs": [],
   "source": [
    "from torch.nn.utils.rnn import pad_sequence\n",
    "def collate_fn(data_list):\n",
    "    x0 = data_list[0]\n",
    "    n_batch = len(data_list)\n",
    "    collated = {}\n",
    "    \n",
    "    for k in x0.keys():\n",
    "        seqs = [x[k].permute(1, 0) for x in data_list]        \n",
    "        collated[k] = pad_sequence(seqs, batch_first=True, padding_value=1).permute(0, 2, 1)        \n",
    "    return collated"
   ]
  },
  {
   "cell_type": "code",
   "execution_count": 12,
   "metadata": {},
   "outputs": [],
   "source": [
    "loader = DataLoader(ds, batch_size=8, collate_fn=collate_fn)"
   ]
  },
  {
   "cell_type": "code",
   "execution_count": 13,
   "metadata": {},
   "outputs": [
    {
     "name": "stdout",
     "output_type": "stream",
     "text": [
      "tgt_word torch.Size([8, 1, 1])\n",
      "tgt_chars torch.Size([8, 1, 3])\n",
      "tgt_compos torch.Size([8, 1, 6])\n",
      "ctx_word torch.Size([8, 4, 1])\n",
      "ctx_chars torch.Size([8, 4, 3])\n",
      "ctx_compos torch.Size([8, 4, 6])\n"
     ]
    }
   ],
   "source": [
    "for k, v in next(iter(loader)).items():\n",
    "    print(k, v.shape)"
   ]
  },
  {
   "cell_type": "code",
   "execution_count": 18,
   "metadata": {},
   "outputs": [
    {
     "data": {
      "text/plain": [
       "{'tgt_word': tensor([[24]]),\n",
       " 'tgt_chars': tensor([[43, 44]]),\n",
       " 'tgt_compos': tensor([[28, 62,  8]]),\n",
       " 'ctx_word': tensor([[ 0],\n",
       "         [23],\n",
       "         [25],\n",
       "         [26]]),\n",
       " 'ctx_chars': tensor([[ 0,  0],\n",
       "         [42,  0],\n",
       "         [45, 46],\n",
       "         [47, 48]], dtype=torch.int32),\n",
       " 'ctx_compos': tensor([[ 0,  0,  0,  0],\n",
       "         [60, 61,  0,  0],\n",
       "         [63, 64, 65, 66],\n",
       "         [67, 68, 69, 70]], dtype=torch.int32)}"
      ]
     },
     "execution_count": 18,
     "metadata": {},
     "output_type": "execute_result"
    }
   ],
   "source": [
    "ds[30]"
   ]
  },
  {
   "cell_type": "code",
   "execution_count": 14,
   "metadata": {},
   "outputs": [
    {
     "data": {
      "text/plain": [
       "{'tgt_word': tensor([[[4]],\n",
       " \n",
       "         [[0]],\n",
       " \n",
       "         [[5]],\n",
       " \n",
       "         [[6]],\n",
       " \n",
       "         [[0]],\n",
       " \n",
       "         [[7]],\n",
       " \n",
       "         [[0]],\n",
       " \n",
       "         [[8]]]),\n",
       " 'tgt_chars': tensor([[[ 2,  3,  1]],\n",
       " \n",
       "         [[ 0,  1,  1]],\n",
       " \n",
       "         [[ 4,  5,  1]],\n",
       " \n",
       "         [[ 6,  7,  1]],\n",
       " \n",
       "         [[ 0,  1,  1]],\n",
       " \n",
       "         [[ 8,  9, 10]],\n",
       " \n",
       "         [[ 0,  1,  1]],\n",
       " \n",
       "         [[11, 12,  1]]]),\n",
       " 'tgt_compos': tensor([[[ 2,  3,  4,  5,  1,  1]],\n",
       " \n",
       "         [[ 0,  1,  1,  1,  1,  1]],\n",
       " \n",
       "         [[ 6,  7,  8,  1,  1,  1]],\n",
       " \n",
       "         [[ 8,  8,  1,  1,  1,  1]],\n",
       " \n",
       "         [[ 0,  1,  1,  1,  1,  1]],\n",
       " \n",
       "         [[ 9, 10, 11, 12, 13, 14]],\n",
       " \n",
       "         [[ 0,  1,  1,  1,  1,  1]],\n",
       " \n",
       "         [[15, 16, 17, 18,  1,  1]]]),\n",
       " 'ctx_word': tensor([[[1],\n",
       "          [1],\n",
       "          [0],\n",
       "          [1]],\n",
       " \n",
       "         [[1],\n",
       "          [4],\n",
       "          [1],\n",
       "          [1]],\n",
       " \n",
       "         [[1],\n",
       "          [1],\n",
       "          [6],\n",
       "          [0]],\n",
       " \n",
       "         [[1],\n",
       "          [5],\n",
       "          [0],\n",
       "          [7]],\n",
       " \n",
       "         [[5],\n",
       "          [6],\n",
       "          [7],\n",
       "          [0]],\n",
       " \n",
       "         [[6],\n",
       "          [0],\n",
       "          [0],\n",
       "          [8]],\n",
       " \n",
       "         [[0],\n",
       "          [7],\n",
       "          [8],\n",
       "          [9]],\n",
       " \n",
       "         [[7],\n",
       "          [0],\n",
       "          [9],\n",
       "          [0]]]),\n",
       " 'ctx_chars': tensor([[[ 1,  1,  1],\n",
       "          [ 1,  1,  1],\n",
       "          [ 0,  1,  1],\n",
       "          [ 1,  1,  1]],\n",
       " \n",
       "         [[ 1,  0,  1],\n",
       "          [ 2,  3,  1],\n",
       "          [ 1,  0,  1],\n",
       "          [ 1,  0,  1]],\n",
       " \n",
       "         [[ 1,  0,  1],\n",
       "          [ 1,  0,  1],\n",
       "          [ 6,  7,  1],\n",
       "          [ 0,  0,  1]],\n",
       " \n",
       "         [[ 1,  0,  0],\n",
       "          [ 4,  5,  0],\n",
       "          [ 0,  0,  0],\n",
       "          [ 8,  9, 10]],\n",
       " \n",
       "         [[ 4,  5,  0],\n",
       "          [ 6,  7,  0],\n",
       "          [ 8,  9, 10],\n",
       "          [ 0,  0,  0]],\n",
       " \n",
       "         [[ 6,  7,  1],\n",
       "          [ 0,  0,  1],\n",
       "          [ 0,  0,  1],\n",
       "          [11, 12,  1]],\n",
       " \n",
       "         [[ 0,  0,  0],\n",
       "          [ 8,  9, 10],\n",
       "          [11, 12,  0],\n",
       "          [ 6, 13,  0]],\n",
       " \n",
       "         [[ 8,  9, 10],\n",
       "          [ 0,  0,  0],\n",
       "          [ 6, 13,  0],\n",
       "          [ 0,  0,  0]]], dtype=torch.int32),\n",
       " 'ctx_compos': tensor([[[ 1,  1,  1,  1,  1,  1],\n",
       "          [ 1,  1,  1,  1,  1,  1],\n",
       "          [ 0,  1,  1,  1,  1,  1],\n",
       "          [ 1,  1,  1,  1,  1,  1]],\n",
       " \n",
       "         [[ 1,  0,  0,  0,  1,  1],\n",
       "          [ 2,  3,  4,  5,  1,  1],\n",
       "          [ 1,  0,  0,  0,  1,  1],\n",
       "          [ 1,  0,  0,  0,  1,  1]],\n",
       " \n",
       "         [[ 1,  0,  1,  1,  1,  1],\n",
       "          [ 1,  0,  1,  1,  1,  1],\n",
       "          [ 8,  8,  1,  1,  1,  1],\n",
       "          [ 0,  0,  1,  1,  1,  1]],\n",
       " \n",
       "         [[ 1,  0,  0,  0,  0,  0],\n",
       "          [ 6,  7,  8,  0,  0,  0],\n",
       "          [ 0,  0,  0,  0,  0,  0],\n",
       "          [ 9, 10, 11, 12, 13, 14]],\n",
       " \n",
       "         [[ 6,  7,  8,  0,  0,  0],\n",
       "          [ 8,  8,  0,  0,  0,  0],\n",
       "          [ 9, 10, 11, 12, 13, 14],\n",
       "          [ 0,  0,  0,  0,  0,  0]],\n",
       " \n",
       "         [[ 8,  8,  0,  0,  1,  1],\n",
       "          [ 0,  0,  0,  0,  1,  1],\n",
       "          [ 0,  0,  0,  0,  1,  1],\n",
       "          [15, 16, 17, 18,  1,  1]],\n",
       " \n",
       "         [[ 0,  0,  0,  0,  0,  0],\n",
       "          [ 9, 10, 11, 12, 13, 14],\n",
       "          [15, 16, 17, 18,  0,  0],\n",
       "          [ 8,  2,  3,  0,  0,  0]],\n",
       " \n",
       "         [[ 9, 10, 11, 12, 13, 14],\n",
       "          [ 0,  0,  0,  0,  0,  0],\n",
       "          [ 8,  2,  3,  0,  0,  0],\n",
       "          [ 0,  0,  0,  0,  0,  0]]], dtype=torch.int32)}"
      ]
     },
     "execution_count": 14,
     "metadata": {},
     "output_type": "execute_result"
    }
   ],
   "source": [
    "next(iter(loader))"
   ]
  },
  {
   "cell_type": "code",
   "execution_count": null,
   "metadata": {},
   "outputs": [],
   "source": []
  }
 ],
 "metadata": {
  "kernelspec": {
   "display_name": "Python 3",
   "language": "python",
   "name": "python3"
  },
  "language_info": {
   "codemirror_mode": {
    "name": "ipython",
    "version": 3
   },
   "file_extension": ".py",
   "mimetype": "text/x-python",
   "name": "python",
   "nbconvert_exporter": "python",
   "pygments_lexer": "ipython3",
   "version": "3.8.2"
  }
 },
 "nbformat": 4,
 "nbformat_minor": 4
}
