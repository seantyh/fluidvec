{
 "cells": [
  {
   "cell_type": "code",
   "execution_count": 1,
   "metadata": {},
   "outputs": [],
   "source": [
    "%load_ext autoreload\n",
    "%autoreload 2"
   ]
  },
  {
   "cell_type": "code",
   "execution_count": 2,
   "metadata": {},
   "outputs": [],
   "source": [
    "import sys\n",
    "sys.path.append(\"../src\")"
   ]
  },
  {
   "cell_type": "code",
   "execution_count": 3,
   "metadata": {},
   "outputs": [],
   "source": [
    "from fluidvec import *"
   ]
  },
  {
   "cell_type": "code",
   "execution_count": 33,
   "metadata": {},
   "outputs": [],
   "source": [
    "import pickle\n",
    "import torch\n",
    "from torch.utils.data import Dataset"
   ]
  },
  {
   "cell_type": "code",
   "execution_count": 75,
   "metadata": {},
   "outputs": [],
   "source": [
    "import numpy as np\n",
    "class TrainDataset:\n",
    "    def __init__(self, fpath):\n",
    "        fin = open(fpath, \"rb\")\n",
    "        self.data = pickle.load(fin)\n",
    "        fin.close()\n",
    "        \n",
    "    def __len__(self):\n",
    "        return len(self.data)\n",
    "    \n",
    "    def pad_tensor(self, values):\n",
    "        n = max(len(x) for x in values)\n",
    "        w = len(values)\n",
    "        t = np.zeros((w, n))\n",
    "        for i, v in enumerate(values):\n",
    "            t[i, :len(v)] = v\n",
    "        return torch.tensor(t, dtype=torch.int32)\n",
    "    \n",
    "    def __getitem__(self, idx):\n",
    "        tgt, ctx = self.data[idx]\n",
    "        return {\n",
    "            \"tgt_word\": torch.tensor(tgt[\"word\"]).reshape(1, 1),\n",
    "            \"tgt_chars\": torch.tensor(tgt[\"chars\"]).reshape(1, -1),\n",
    "            \"tgt_compos\": torch.tensor(tgt[\"compos\"]).reshape(1, -1),\n",
    "            \"ctx_word\": torch.tensor([x[\"word\"] for x in ctx]).reshape(len(ctx), -1),\n",
    "            \"ctx_chars\": self.pad_tensor([x[\"chars\"] for x in ctx]),\n",
    "            \"ctx_compos\": self.pad_tensor([x[\"compos\"] for x in ctx])\n",
    "        }"
   ]
  },
  {
   "cell_type": "code",
   "execution_count": 76,
   "metadata": {},
   "outputs": [],
   "source": [
    "ds = TrainDataset(\"../data/train_items/train_items_001.pkl\")"
   ]
  },
  {
   "cell_type": "code",
   "execution_count": 77,
   "metadata": {},
   "outputs": [
    {
     "data": {
      "text/plain": [
       "tensor([[1, 2, 3]])"
      ]
     },
     "execution_count": 77,
     "metadata": {},
     "output_type": "execute_result"
    }
   ],
   "source": [
    "torch.tensor([1,2,3]).reshape(1, 3)"
   ]
  },
  {
   "cell_type": "code",
   "execution_count": 78,
   "metadata": {},
   "outputs": [
    {
     "data": {
      "text/plain": [
       "{'tgt_word': tensor([[105]]),\n",
       " 'tgt_chars': tensor([[187]]),\n",
       " 'tgt_compos': tensor([[8]]),\n",
       " 'ctx_word': tensor([[1454],\n",
       "         [2884],\n",
       "         [1164],\n",
       "         [2884]]),\n",
       " 'ctx_chars': tensor([[1112, 1383],\n",
       "         [  29, 1679],\n",
       "         [  20,   75],\n",
       "         [  29, 1679]], dtype=torch.int32),\n",
       " 'ctx_compos': tensor([[ 94,  16,  50, 462],\n",
       "         [  8,  46,  47,   0],\n",
       "         [ 32,  33,  13, 100],\n",
       "         [  8,  46,  47,   0]], dtype=torch.int32)}"
      ]
     },
     "execution_count": 78,
     "metadata": {},
     "output_type": "execute_result"
    }
   ],
   "source": [
    "ds[12345]"
   ]
  },
  {
   "cell_type": "code",
   "execution_count": 70,
   "metadata": {},
   "outputs": [],
   "source": [
    "from torch.utils.data import DataLoader"
   ]
  },
  {
   "cell_type": "code",
   "execution_count": 81,
   "metadata": {},
   "outputs": [
    {
     "data": {
      "text/plain": [
       "4"
      ]
     },
     "execution_count": 81,
     "metadata": {},
     "output_type": "execute_result"
    }
   ],
   "source": [
    "ds[12345][\"ctx_compos\"].size(1)"
   ]
  },
  {
   "cell_type": "code",
   "execution_count": 119,
   "metadata": {},
   "outputs": [],
   "source": [
    "from torch.nn.utils.rnn import pad_sequence\n",
    "def collate_fn(data_list):\n",
    "    x0 = data_list[0]\n",
    "    n_batch = len(data_list)\n",
    "    collated = {}\n",
    "    \n",
    "    for k in x0.keys():\n",
    "        seqs = [x[k].permute(1, 0) for x in data_list]        \n",
    "        collated[k] = pad_sequence(seqs, batch_first=True).permute(0, 2, 1)        \n",
    "    return collated"
   ]
  },
  {
   "cell_type": "code",
   "execution_count": 122,
   "metadata": {},
   "outputs": [],
   "source": [
    "loader = DataLoader(ds, batch_size=8, collate_fn=collate_fn)"
   ]
  },
  {
   "cell_type": "code",
   "execution_count": 123,
   "metadata": {},
   "outputs": [
    {
     "name": "stdout",
     "output_type": "stream",
     "text": [
      "tgt_word torch.Size([8, 1, 1])\n",
      "tgt_chars torch.Size([8, 1, 3])\n",
      "tgt_compos torch.Size([8, 1, 6])\n",
      "ctx_word torch.Size([8, 4, 1])\n",
      "ctx_chars torch.Size([8, 4, 3])\n",
      "ctx_compos torch.Size([8, 4, 6])\n"
     ]
    }
   ],
   "source": [
    "for k, v in next(iter(loader)).items():\n",
    "    print(k, v.shape)"
   ]
  },
  {
   "cell_type": "code",
   "execution_count": null,
   "metadata": {},
   "outputs": [],
   "source": []
  }
 ],
 "metadata": {
  "kernelspec": {
   "display_name": "Python 3",
   "language": "python",
   "name": "python3"
  },
  "language_info": {
   "codemirror_mode": {
    "name": "ipython",
    "version": 3
   },
   "file_extension": ".py",
   "mimetype": "text/x-python",
   "name": "python",
   "nbconvert_exporter": "python",
   "pygments_lexer": "ipython3",
   "version": "3.8.2"
  }
 },
 "nbformat": 4,
 "nbformat_minor": 4
}
