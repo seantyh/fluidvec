{
 "cells": [
  {
   "cell_type": "code",
   "execution_count": 1,
   "metadata": {},
   "outputs": [],
   "source": [
    "%load_ext autoreload\n",
    "%autoreload 2"
   ]
  },
  {
   "cell_type": "code",
   "execution_count": 2,
   "metadata": {},
   "outputs": [],
   "source": [
    "import sys\n",
    "sys.path.append(\"../src\")"
   ]
  },
  {
   "cell_type": "code",
   "execution_count": 3,
   "metadata": {},
   "outputs": [],
   "source": [
    "from gensim.models import KeyedVectors\n",
    "from fluidvec import create_fluid_keyvec, VocabSet"
   ]
  },
  {
   "cell_type": "code",
   "execution_count": 4,
   "metadata": {},
   "outputs": [],
   "source": [
    "vs = VocabSet.load()\n",
    "wvocab = vs.word_vocab"
   ]
  },
  {
   "cell_type": "code",
   "execution_count": 84,
   "metadata": {},
   "outputs": [
    {
     "name": "stdout",
     "output_type": "stream",
     "text": [
      "device:  cpu\n",
      "n_neg_sample:  5\n"
     ]
    },
    {
     "data": {
      "text/plain": [
       "<FluidKeyedVectors: 217350 words, 20396 chars, 100 dimensions>"
      ]
     },
     "execution_count": 84,
     "metadata": {},
     "output_type": "execute_result"
    }
   ],
   "source": [
    "fkv = create_fluid_keyvec(\"../data/model/fluidvec-char.b.1\")\n",
    "fkv"
   ]
  },
  {
   "cell_type": "code",
   "execution_count": 85,
   "metadata": {},
   "outputs": [
    {
     "data": {
      "text/plain": [
       "[('.構/', 0.792674720287323),\n",
       " ('.育/', 0.789618194103241),\n",
       " ('.治/', 0.7849011421203613),\n",
       " ('.識/', 0.781531035900116),\n",
       " ('.範/', 0.7783615589141846),\n",
       " ('.值.', 0.7776779532432556),\n",
       " ('/族.', 0.7772347331047058),\n",
       " ('.化/', 0.7738292813301086),\n",
       " ('/基.', 0.7681733965873718),\n",
       " ('.庭/', 0.7672065496444702)]"
      ]
     },
     "execution_count": 85,
     "metadata": {},
     "output_type": "execute_result"
    }
   ],
   "source": [
    "fkv.most_similar(\"/社.\")"
   ]
  },
  {
   "cell_type": "code",
   "execution_count": 86,
   "metadata": {},
   "outputs": [
    {
     "data": {
      "text/plain": [
       "[('上流', 0.17624442279338837, 50),\n",
       " ('父權', 0.16222922503948212, 177),\n",
       " ('福利', 0.13845762610435486, 655),\n",
       " ('敗壞', 0.12076283991336823, 48),\n",
       " ('現代', 0.11712218821048737, 1922),\n",
       " ('倫理', 0.11614448577165604, 350),\n",
       " ('乃至', 0.11545934528112411, 284),\n",
       " ('人文', 0.11427304893732071, 680),\n",
       " ('社會', 0.1116725280880928, 9691),\n",
       " ('資訊化', 0.11112893372774124, 73)]"
      ]
     },
     "execution_count": 86,
     "metadata": {},
     "output_type": "execute_result"
    }
   ],
   "source": [
    "fkv.most_similar(\"/社.\", word_only=True)"
   ]
  },
  {
   "cell_type": "code",
   "execution_count": 87,
   "metadata": {},
   "outputs": [
    {
     "name": "stdout",
     "output_type": "stream",
     "text": [
      "in word vocab:  True\n",
      "char tokens:  ['/社.', '.會/']\n"
     ]
    },
    {
     "data": {
      "text/plain": [
       "[('暨', 0.08486597239971161, 334),\n",
       " ('福利', 0.08303382247686386, 655),\n",
       " ('文教', 0.05939400941133499, 220),\n",
       " ('促進會', 0.05522868037223816, 68),\n",
       " ('文化', 0.05042145401239395, 6565),\n",
       " ('與', 0.047655247151851654, 42852),\n",
       " ('基金會', 0.04450756311416626, 1110),\n",
       " ('上流', 0.0418526865541935, 50),\n",
       " ('鄒族', 0.0416993722319603, 48),\n",
       " ('婦女', 0.03832096979022026, 1822)]"
      ]
     },
     "execution_count": 87,
     "metadata": {},
     "output_type": "execute_result"
    }
   ],
   "source": [
    "fkv.most_similar(\"社會\", use_char_vec=True, word_only=True)"
   ]
  },
  {
   "cell_type": "code",
   "execution_count": 88,
   "metadata": {},
   "outputs": [
    {
     "name": "stdout",
     "output_type": "stream",
     "text": [
      "in word vocab:  False\n",
      "char tokens:  ['/驢.', '.肉/']\n"
     ]
    },
    {
     "data": {
      "text/plain": [
       "[('牛肉', 0.1485476791858673, 133),\n",
       " ('汁', 0.1424451470375061, 70),\n",
       " ('魚肉', 0.1390373706817627, 54),\n",
       " ('鹽', 0.13313132524490356, 161),\n",
       " ('鳳梨', 0.11642277240753174, 38),\n",
       " ('燉', 0.11438897997140884, 55),\n",
       " ('奶油', 0.11043530702590942, 81),\n",
       " ('少許', 0.10554607212543488, 78),\n",
       " ('肉質', 0.10452785342931747, 41),\n",
       " ('木瓜', 0.10073314607143402, 37)]"
      ]
     },
     "execution_count": 88,
     "metadata": {},
     "output_type": "execute_result"
    }
   ],
   "source": [
    "fkv.most_similar(\"驢肉\", use_char_vec=True, word_only=True)"
   ]
  },
  {
   "cell_type": "code",
   "execution_count": 89,
   "metadata": {},
   "outputs": [
    {
     "name": "stdout",
     "output_type": "stream",
     "text": [
      "in word vocab:  False\n",
      "char tokens:  ['/語.', '.奧/']\n"
     ]
    },
    {
     "data": {
      "text/plain": [
       "[('符號', 0.08971244841814041, 431),\n",
       " ('—', 0.07481905072927475, 18),\n",
       " ('語言', 0.06726217269897461, 2204),\n",
       " ('和', 0.06528167426586151, 35974),\n",
       " ('及', 0.048538051545619965, 25433),\n",
       " ('與', 0.04641526937484741, 42852),\n",
       " ('幾何', 0.02566775679588318, 130),\n",
       " ('轉換成', 0.02523135393857956, 83),\n",
       " ('文字', 0.023704735562205315, 1173),\n",
       " ('源自', 0.02110547386109829, 104)]"
      ]
     },
     "execution_count": 89,
     "metadata": {},
     "output_type": "execute_result"
    }
   ],
   "source": [
    "fkv.most_similar(\"語奧\", use_char_vec=True, word_only=True)"
   ]
  },
  {
   "cell_type": "code",
   "execution_count": null,
   "metadata": {},
   "outputs": [],
   "source": [
    "fkv.most_similar(\"語奧\", use_char_vec=True, word_only=True)"
   ]
  },
  {
   "cell_type": "code",
   "execution_count": 105,
   "metadata": {},
   "outputs": [
    {
     "name": "stdout",
     "output_type": "stream",
     "text": [
      "in word vocab:  False\n",
      "char tokens:  ['/鼠.', '.車/']\n"
     ]
    },
    {
     "data": {
      "text/plain": [
       "[('機車', 0.19752159714698792, 618),\n",
       " ('轎車', 0.1585056483745575, 151),\n",
       " ('搭', 0.1570584625005722, 520),\n",
       " ('輛', 0.14658498764038086, 612),\n",
       " ('汽車', 0.14584365487098694, 1060),\n",
       " ('駕駛', 0.14223100244998932, 225),\n",
       " ('車', 0.1281992346048355, 1686),\n",
       " ('自行車', 0.12665173411369324, 92),\n",
       " ('巴士', 0.12636211514472961, 184),\n",
       " ('搭乘', 0.12316432595252991, 263)]"
      ]
     },
     "execution_count": 105,
     "metadata": {},
     "output_type": "execute_result"
    }
   ],
   "source": [
    "fkv.most_similar(\"車\", use_char_vec=True, word_only=True)"
   ]
  },
  {
   "cell_type": "code",
   "execution_count": 8,
   "metadata": {},
   "outputs": [],
   "source": [
    "from sklearn.decomposition import PCA"
   ]
  },
  {
   "cell_type": "code",
   "execution_count": 9,
   "metadata": {},
   "outputs": [],
   "source": [
    "pca = PCA(2)"
   ]
  },
  {
   "cell_type": "code",
   "execution_count": 10,
   "metadata": {},
   "outputs": [],
   "source": [
    "import numpy as np\n",
    "vec = fkv.vectors\n",
    "norms = np.linalg.norm(vec, axis=1)\n",
    "norm_vec = vec / norms[:, np.newaxis]\n",
    "proj = pca.fit_transform(norm_vec)\n"
   ]
  },
  {
   "cell_type": "code",
   "execution_count": 11,
   "metadata": {},
   "outputs": [
    {
     "data": {
      "text/plain": [
       "<matplotlib.collections.PathCollection at 0x2f8ad8a7850>"
      ]
     },
     "execution_count": 11,
     "metadata": {},
     "output_type": "execute_result"
    },
    {
     "data": {
      "image/png": "[encoded data removed]",
      "text/plain": [
       "<Figure size 432x288 with 1 Axes>"
      ]
     },
     "metadata": {
      "needs_background": "light"
     },
     "output_type": "display_data"
    }
   ],
   "source": [
    "from matplotlib import pyplot as plt\n",
    "plt.scatter(proj[:fkv.n_word, 0], proj[:fkv.n_word, 1], c='red', s=0.5)\n",
    "plt.scatter(proj[fkv.n_word:, 0], proj[fkv.n_word:, 1], c='blue', s=0.5)"
   ]
  },
  {
   "cell_type": "code",
   "execution_count": 89,
   "metadata": {},
   "outputs": [
    {
     "data": {
      "text/plain": [
       "array(['.墨/', '.辯/', '/油.', '/杜.', '/父.', '/歧.', '.Y/', '.季/', '.勇/',\n",
       "       '.戰.', '.衡/', '/鄉/', '/裝.', '/練/', '.光/', '.訂/', '/候.', '.瘓/',\n",
       "       '.里/', '/釋.', '/竊.', '.復.', '.涉/', '.顧.', '/承.', '.周.', '/千.',\n",
       "       '/蓋.', '.歉/', '.必/', '.E.', '/勞.', '.瘤/', '/是.', '/人/', '/松.',\n",
       "       '/俄.', '/女/', '.耳.', '.祝/', '.O.', '/德.', '/知/', '.巴.', '.襯/',\n",
       "       '/埋.', '.坪/', '/拒/', '.段/', '.晶/'], dtype='<U7')"
      ]
     },
     "execution_count": 89,
     "metadata": {},
     "output_type": "execute_result"
    }
   ],
   "source": [
    "np.random.choice([fkv.index_to_key[x+fkv.n_word] for x in np.where(proj[fkv.n_word:, 1]>.3)[0]], 50)"
   ]
  },
  {
   "cell_type": "code",
   "execution_count": 78,
   "metadata": {},
   "outputs": [
    {
     "data": {
      "text/plain": [
       "array(['貴族氣', '劍影', '冰場', '傳引到', '婁家', '畫起來', '英日語科', '馬特拉掉', '荷蘭豆', '安適',\n",
       "       '巢箱', '副部長', '顫巍巍', '擊球點', '２５９', '電物系', '（４６）', '中文詞', '槍毒案',\n",
       "       '馬佑君'], dtype='<U152')"
      ]
     },
     "execution_count": 78,
     "metadata": {},
     "output_type": "execute_result"
    }
   ],
   "source": [
    "np.random.choice([fkv.index_to_key[x] for x in np.where(proj[:fkv.n_word, 0]>0)[0]], 20)"
   ]
  },
  {
   "cell_type": "code",
   "execution_count": null,
   "metadata": {},
   "outputs": [],
   "source": []
  }
 ],
 "metadata": {
  "kernelspec": {
   "display_name": "Python 3",
   "language": "python",
   "name": "python3"
  },
  "language_info": {
   "codemirror_mode": {
    "name": "ipython",
    "version": 3
   },
   "file_extension": ".py",
   "mimetype": "text/x-python",
   "name": "python",
   "nbconvert_exporter": "python",
   "pygments_lexer": "ipython3",
   "version": "3.8.2"
  }
 },
 "nbformat": 4,
 "nbformat_minor": 4
}
